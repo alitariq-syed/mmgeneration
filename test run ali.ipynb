{
 "cells": [
  {
   "cell_type": "code",
   "execution_count": 2,
   "id": "1e32a5f5",
   "metadata": {},
   "outputs": [
    {
     "name": "stderr",
     "output_type": "stream",
     "text": [
      "'export' is not recognized as an internal or external command,\n",
      "operable program or batch file.\n"
     ]
    }
   ],
   "source": [
    "# !export CUDA_VISIBLE_DEVICES=-1"
   ]
  },
  {
   "cell_type": "code",
   "execution_count": 3,
   "id": "ebd2a4bb",
   "metadata": {},
   "outputs": [
    {
     "name": "stderr",
     "output_type": "stream",
     "text": [
      "C:\\Users\\Ali\\Anaconda3\\envs\\mmedit\\lib\\site-packages\\mmcv\\__init__.py:20: UserWarning: On January 1, 2023, MMCV will release v2.0.0, in which it will remove components related to the training process and add a data transformation module. In addition, it will rename the package names mmcv to mmcv-lite and mmcv-full to mmcv. See https://github.com/open-mmlab/mmcv/blob/master/docs/en/compatibility.md for more details.\n",
      "  warnings.warn(\n"
     ]
    },
    {
     "name": "stdout",
     "output_type": "stream",
     "text": [
      "load checkpoint from local path: stylegan2-church-config-f-official_20210327_172657-1d42b7d1.pth\n"
     ]
    },
    {
     "name": "stderr",
     "output_type": "stream",
     "text": [
      "2023-07-16 13:36:57,444 - mmgen - INFO - Switch to evaluation style mode: single\n",
      "2023-07-16 13:36:57,447 - mmgen - INFO - Switch to evaluation style mode: single\n"
     ]
    }
   ],
   "source": [
    "import mmcv\n",
    "from mmgen.apis import init_model, sample_unconditional_model\n",
    "\n",
    "# Specify the path to model config and checkpoint file\n",
    "config_file = 'configs/styleganv2/stylegan2_c2_lsun-church_256_b4x8_800k.py'\n",
    "# you can download this checkpoint in advance and use a local file path.\n",
    "checkpoint_file = 'stylegan2-church-config-f-official_20210327_172657-1d42b7d1.pth'\n",
    "\n",
    "device = 'cpu' #'cuda:0'\n",
    "model = init_model(config_file, checkpoint_file, device=device)"
   ]
  },
  {
   "cell_type": "code",
   "execution_count": 4,
   "id": "1452b0ef",
   "metadata": {},
   "outputs": [],
   "source": [
    "# sample images\n",
    "fake_imgs = sample_unconditional_model(model, 4)"
   ]
  },
  {
   "cell_type": "code",
   "execution_count": 5,
   "id": "9b1e60aa",
   "metadata": {},
   "outputs": [
    {
     "data": {
      "text/plain": [
       "torch.Size([4, 3, 256, 256])"
      ]
     },
     "execution_count": 5,
     "metadata": {},
     "output_type": "execute_result"
    }
   ],
   "source": [
    "fake_imgs.shape"
   ]
  },
  {
   "cell_type": "code",
   "execution_count": null,
   "id": "aaea4c70",
   "metadata": {},
   "outputs": [],
   "source": []
  },
  {
   "cell_type": "code",
   "execution_count": null,
   "id": "591c002c",
   "metadata": {},
   "outputs": [],
   "source": []
  },
  {
   "cell_type": "code",
   "execution_count": 6,
   "id": "3edaba08",
   "metadata": {},
   "outputs": [
    {
     "name": "stdout",
     "output_type": "stream",
     "text": [
      "^C\n"
     ]
    }
   ],
   "source": [
    "!python demo/unconditional_demo.py \\\n",
    "    \"configs/styleganv2/stylegan2_c2_lsun-church_256_b4x8_800k.py\" \\\n",
    "    \"stylegan2-church-config-f-official_20210327_172657-1d42b7d1.pth\" \\\n",
    "    --save-path \"./output/styleganv2_church.png\" \\\n",
    "    --device \"cuda:0\""
   ]
  },
  {
   "cell_type": "code",
   "execution_count": null,
   "id": "d372efb6",
   "metadata": {},
   "outputs": [],
   "source": []
  },
  {
   "cell_type": "code",
   "execution_count": null,
   "id": "bac01c1f",
   "metadata": {},
   "outputs": [],
   "source": []
  },
  {
   "cell_type": "code",
   "execution_count": null,
   "id": "d3b841ff",
   "metadata": {},
   "outputs": [],
   "source": []
  },
  {
   "cell_type": "code",
   "execution_count": null,
   "id": "699f7204",
   "metadata": {},
   "outputs": [],
   "source": []
  }
 ],
 "metadata": {
  "kernelspec": {
   "display_name": "Python 3 (ipykernel)",
   "language": "python",
   "name": "python3"
  },
  "language_info": {
   "codemirror_mode": {
    "name": "ipython",
    "version": 3
   },
   "file_extension": ".py",
   "mimetype": "text/x-python",
   "name": "python",
   "nbconvert_exporter": "python",
   "pygments_lexer": "ipython3",
   "version": "3.9.17"
  }
 },
 "nbformat": 4,
 "nbformat_minor": 5
}
