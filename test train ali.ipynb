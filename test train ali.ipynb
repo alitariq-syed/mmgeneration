{
 "cells": [
  {
   "cell_type": "code",
   "execution_count": 1,
   "id": "ae4cb74e",
   "metadata": {},
   "outputs": [],
   "source": [
    "import os\n",
    "# Set CUDA visible devices\n",
    "os.environ['CUDA_VISIBLE_DEVICES'] = '-1'"
   ]
  },
  {
   "cell_type": "code",
   "execution_count": 2,
   "id": "afd33eae",
   "metadata": {},
   "outputs": [
    {
     "name": "stdout",
     "output_type": "stream",
     "text": [
      "Torch Version:  1.13.1+cu116\n",
      "Is Torch CUDA available?  False\n"
     ]
    },
    {
     "name": "stderr",
     "output_type": "stream",
     "text": [
      "No CUDA runtime is found, using CUDA_HOME='C:\\Program Files\\NVIDIA GPU Computing Toolkit\\CUDA\\v11.2'\n",
      "C:\\Users\\Ali\\Anaconda3\\envs\\mmedit\\lib\\site-packages\\mmcv\\__init__.py:20: UserWarning: On January 1, 2023, MMCV will release v2.0.0, in which it will remove components related to the training process and add a data transformation module. In addition, it will rename the package names mmcv to mmcv-lite and mmcv-full to mmcv. See https://github.com/open-mmlab/mmcv/blob/master/docs/en/compatibility.md for more details.\n",
      "  warnings.warn(\n"
     ]
    },
    {
     "name": "stdout",
     "output_type": "stream",
     "text": [
      "MMGeneration Version:  0.7.3\n",
      "CUDA Compiler Version:  11.6\n",
      "GCC Version:  MSVC 192829924\n"
     ]
    }
   ],
   "source": [
    "# Check Pytorch installation\n",
    "import torch, torchvision\n",
    "print('Torch Version: ',torch.__version__)\n",
    "print('Is Torch CUDA available? ', torch.cuda.is_available())\n",
    "\n",
    "# Check MMDetection installation\n",
    "import mmgen\n",
    "print('MMGeneration Version: ', mmgen.__version__)\n",
    "\n",
    "# Check mmcv installation\n",
    "from mmcv.ops import get_compiling_cuda_version, get_compiler_version\n",
    "print('CUDA Compiler Version: ', get_compiling_cuda_version())\n",
    "print('GCC Version: ',get_compiler_version())"
   ]
  },
  {
   "cell_type": "code",
   "execution_count": 3,
   "id": "d83abdc4",
   "metadata": {},
   "outputs": [
    {
     "data": {
      "text/plain": [
       "['.circleci',\n",
       " '.dev_scripts',\n",
       " '.git',\n",
       " '.github',\n",
       " '.gitignore',\n",
       " '.ipynb_checkpoints',\n",
       " '.pre-commit-config.yaml',\n",
       " '.pylintrc',\n",
       " '.readthedocs.yml',\n",
       " 'apps',\n",
       " 'CITATION.cff',\n",
       " 'configs',\n",
       " 'demo',\n",
       " 'docker',\n",
       " 'docs',\n",
       " 'LICENSE',\n",
       " 'LICENSES.md',\n",
       " 'MANIFEST.in',\n",
       " 'mmcv_full-1.7.1-cp39-cp39-win_amd64.whl',\n",
       " 'mmgen',\n",
       " 'mmgen.egg-info',\n",
       " 'model-index.yml',\n",
       " 'output',\n",
       " 'README.md',\n",
       " 'README_zh-CN.md',\n",
       " 'requirements',\n",
       " 'requirements.txt',\n",
       " 'setup.cfg',\n",
       " 'setup.py',\n",
       " 'stylegan2-church-config-f-official_20210327_172657-1d42b7d1.pth',\n",
       " 'test run ali.ipynb',\n",
       " 'test train ali.ipynb',\n",
       " 'tests',\n",
       " 'tools']"
      ]
     },
     "execution_count": 3,
     "metadata": {},
     "output_type": "execute_result"
    }
   ],
   "source": [
    "import os\n",
    "os.chdir('G:/mmgeneration')\n",
    "os.listdir()"
   ]
  },
  {
   "cell_type": "code",
   "execution_count": 4,
   "id": "6cf47751",
   "metadata": {},
   "outputs": [
    {
     "name": "stdout",
     "output_type": "stream",
     "text": [
      "load checkpoint from local path: stylegan2-church-config-f-official_20210327_172657-1d42b7d1.pth\n"
     ]
    },
    {
     "name": "stderr",
     "output_type": "stream",
     "text": [
      "2023-07-16 15:01:09,650 - mmgen - INFO - Switch to evaluation style mode: single\n",
      "2023-07-16 15:01:09,653 - mmgen - INFO - Switch to evaluation style mode: single\n"
     ]
    }
   ],
   "source": [
    "import mmcv\n",
    "from mmgen.apis import init_model, sample_unconditional_model\n",
    "\n",
    "# Specify the path to model config and checkpoint file\n",
    "# config_file = 'configs/styleganv2/stylegan2_c2_lsun-church_256_b4x8_800k.py'\n",
    "config_file = 'configs/styleganv2/stylegan2_c2_places365_256_b4x8_800k_ali.py'\n",
    "# you can download this checkpoint in advance and use a local file path.\n",
    "checkpoint_file = 'stylegan2-church-config-f-official_20210327_172657-1d42b7d1.pth'\n",
    "\n",
    "device = 'cpu' #'cpu' #'cuda:0'\n",
    "model = init_model(config_file, checkpoint_file, device=device)"
   ]
  },
  {
   "cell_type": "code",
   "execution_count": 5,
   "id": "4a07a7b9",
   "metadata": {},
   "outputs": [],
   "source": [
    "from mmgen.apis import set_random_seed\n",
    "\n",
    "\n",
    "from mmcv import Config\n",
    "cfg = Config.fromfile(config_file)\n"
   ]
  },
  {
   "cell_type": "code",
   "execution_count": 6,
   "id": "85175202",
   "metadata": {},
   "outputs": [],
   "source": [
    "img_size = 256\n",
    "# cfg.img_size = img_size\n",
    "# cfg.train_pipeline[1].scale=(img_size,img_size)\n",
    "# cfg.val_pipeline[1].scale=(img_size,img_size)\n",
    "cfg.model.generator.out_size = img_size\n",
    "cfg.model.discriminator.in_size = img_size\n",
    "\n",
    "cfg.data.samples_per_gpu=1 #1\n",
    "cfg.data.workers_per_gpu=1 #4\n",
    "\n",
    "# Set seed thus the results are more reproducible\n",
    "cfg.seed = 0\n",
    "set_random_seed(0, deterministic=False)\n",
    "cfg.gpu_ids = range(1)\n",
    "\n",
    "cfg.use_ddp_wrapper = True\n",
    "cfg.find_unused_parameters = True  # True for dynamic model, False for static model\n",
    "cfg.runner = dict(\n",
    "    type='DynamicIterBasedRunner',\n",
    "    is_dynamic_ddp=False,  # Note that this flag should be False.\n",
    "    pass_training_status=True)\n",
    "\n",
    "\n",
    "cfg.log_config.interval=1\n",
    "# cfg.optimizer_config = dict(grad_clip=None)\n",
    "cfg.workflow = [('train', 1)]\n",
    "\n",
    "cfg.load_from = \"stylegan2-church-config-f-official_20210327_172657-1d42b7d1.pth\"\n",
    "cfg.work_dir = './test_run'"
   ]
  },
  {
   "cell_type": "code",
   "execution_count": 7,
   "id": "88f56495",
   "metadata": {},
   "outputs": [
    {
     "name": "stdout",
     "output_type": "stream",
     "text": [
      "Config:\n",
      "dataset_type = 'UnconditionalImageDataset'\n",
      "img_size = 256\n",
      "train_pipeline = [\n",
      "    dict(type='LoadImageFromFile', key='real_img', io_backend='disk'),\n",
      "    dict(type='Resize', keys=['real_img'], scale=(256, 256)),\n",
      "    dict(\n",
      "        type='Normalize',\n",
      "        keys=['real_img'],\n",
      "        mean=[127.5, 127.5, 127.5],\n",
      "        std=[127.5, 127.5, 127.5],\n",
      "        to_rgb=False),\n",
      "    dict(type='ImageToTensor', keys=['real_img']),\n",
      "    dict(type='Collect', keys=['real_img'], meta_keys=['real_img_path'])\n",
      "]\n",
      "val_pipeline = [\n",
      "    dict(type='LoadImageFromFile', key='real_img', io_backend='disk'),\n",
      "    dict(type='Resize', keys=['real_img'], scale=(256, 256)),\n",
      "    dict(\n",
      "        type='Normalize',\n",
      "        keys=['real_img'],\n",
      "        mean=[127.5, 127.5, 127.5],\n",
      "        std=[127.5, 127.5, 127.5],\n",
      "        to_rgb=True),\n",
      "    dict(type='ImageToTensor', keys=['real_img']),\n",
      "    dict(type='Collect', keys=['real_img'], meta_keys=['real_img_path'])\n",
      "]\n",
      "data = dict(\n",
      "    samples_per_gpu=1,\n",
      "    workers_per_gpu=1,\n",
      "    train=dict(\n",
      "        type='RepeatDataset',\n",
      "        times=100,\n",
      "        dataset=dict(\n",
      "            type='UnconditionalImageDataset',\n",
      "            imgs_root='G:/Places365_small/val_256/train_samples',\n",
      "            pipeline=[\n",
      "                dict(\n",
      "                    type='LoadImageFromFile',\n",
      "                    key='real_img',\n",
      "                    io_backend='disk'),\n",
      "                dict(type='Resize', keys=['real_img'], scale=(256, 256)),\n",
      "                dict(\n",
      "                    type='Normalize',\n",
      "                    keys=['real_img'],\n",
      "                    mean=[127.5, 127.5, 127.5],\n",
      "                    std=[127.5, 127.5, 127.5],\n",
      "                    to_rgb=False),\n",
      "                dict(type='ImageToTensor', keys=['real_img']),\n",
      "                dict(\n",
      "                    type='Collect',\n",
      "                    keys=['real_img'],\n",
      "                    meta_keys=['real_img_path'])\n",
      "            ])),\n",
      "    val=dict(\n",
      "        type='UnconditionalImageDataset',\n",
      "        imgs_root=None,\n",
      "        pipeline=[\n",
      "            dict(type='LoadImageFromFile', key='real_img', io_backend='disk'),\n",
      "            dict(type='Resize', keys=['real_img'], scale=(256, 256)),\n",
      "            dict(\n",
      "                type='Normalize',\n",
      "                keys=['real_img'],\n",
      "                mean=[127.5, 127.5, 127.5],\n",
      "                std=[127.5, 127.5, 127.5],\n",
      "                to_rgb=True),\n",
      "            dict(type='ImageToTensor', keys=['real_img']),\n",
      "            dict(\n",
      "                type='Collect', keys=['real_img'], meta_keys=['real_img_path'])\n",
      "        ]))\n",
      "d_reg_interval = 16\n",
      "g_reg_interval = 4\n",
      "g_reg_ratio = 0.8\n",
      "d_reg_ratio = 0.9411764705882353\n",
      "model = dict(\n",
      "    type='StaticUnconditionalGAN',\n",
      "    generator=dict(\n",
      "        type='StyleGANv2Generator', out_size=256, style_channels=512),\n",
      "    discriminator=dict(type='StyleGAN2Discriminator', in_size=256),\n",
      "    gan_loss=dict(type='GANLoss', gan_type='wgan-logistic-ns'),\n",
      "    disc_auxiliary_loss=dict(\n",
      "        type='R1GradientPenalty',\n",
      "        loss_weight=80.0,\n",
      "        interval=16,\n",
      "        norm_mode='HWC',\n",
      "        data_info=dict(real_data='real_imgs', discriminator='disc')),\n",
      "    gen_auxiliary_loss=dict(\n",
      "        type='GeneratorPathRegularizer',\n",
      "        loss_weight=8.0,\n",
      "        pl_batch_shrink=2,\n",
      "        interval=4,\n",
      "        data_info=dict(generator='gen', num_batches='batch_size')))\n",
      "train_cfg = dict(use_ema=True)\n",
      "test_cfg = None\n",
      "optimizer = dict(\n",
      "    generator=dict(type='Adam', lr=0.0016, betas=(0, 0.9919919678228657)),\n",
      "    discriminator=dict(\n",
      "        type='Adam', lr=0.0018823529411764706, betas=(0, 0.9905854573074332)))\n",
      "checkpoint_config = dict(interval=10, by_epoch=False, max_keep_ckpts=2)\n",
      "log_config = dict(interval=1, hooks=[dict(type='TextLoggerHook')])\n",
      "custom_hooks = [\n",
      "    dict(\n",
      "        type='VisualizeUnconditionalSamples',\n",
      "        output_dir='training_samples',\n",
      "        interval=10),\n",
      "    dict(\n",
      "        type='ExponentialMovingAverageHook',\n",
      "        module_keys=('generator_ema', ),\n",
      "        interval=1,\n",
      "        interp_cfg=dict(momentum=0.9977843871238888),\n",
      "        priority='VERY_HIGH')\n",
      "]\n",
      "runner = dict(\n",
      "    type='DynamicIterBasedRunner',\n",
      "    is_dynamic_ddp=False,\n",
      "    pass_training_status=True)\n",
      "dist_params = dict(backend='nccl')\n",
      "log_level = 'INFO'\n",
      "load_from = 'stylegan2-church-config-f-official_20210327_172657-1d42b7d1.pth'\n",
      "resume_from = None\n",
      "workflow = [('train', 1)]\n",
      "find_unused_parameters = True\n",
      "cudnn_benchmark = True\n",
      "opencv_num_threads = 0\n",
      "mp_start_method = 'fork'\n",
      "ema_half_life = 10.0\n",
      "lr_config = None\n",
      "total_iters = 100\n",
      "metrics = dict(\n",
      "    fid50k=dict(type='FID', num_images=500, inception_pkl=None, bgr2rgb=True),\n",
      "    pr50k3=dict(type='PR', num_images=500, k=3),\n",
      "    ppl_wend=dict(type='PPL', space='W', sampling='end', num_images=500))\n",
      "seed = 0\n",
      "gpu_ids = range(0, 1)\n",
      "use_ddp_wrapper = True\n",
      "work_dir = './test_run'\n",
      "\n"
     ]
    }
   ],
   "source": [
    "print(f'Config:\\n{cfg.pretty_text}')"
   ]
  },
  {
   "cell_type": "code",
   "execution_count": 8,
   "id": "24b7606c",
   "metadata": {},
   "outputs": [
    {
     "name": "stderr",
     "output_type": "stream",
     "text": [
      "2023-07-16 15:01:10,601 - mmgen - INFO - dataset_name: <class 'mmgen.datasets.unconditional_image_dataset.UnconditionalImageDataset'>, total 21900 images in imgs_root: G:/Places365_small/val_256/train_samples\n"
     ]
    }
   ],
   "source": [
    "from mmgen.datasets import build_dataset\n",
    "from mmgen.models import build_model\n",
    "from mmgen.apis import train_model\n",
    "import os\n",
    "import mmcv\n",
    "\n",
    "# Build dataset\n",
    "datasets = [build_dataset(cfg.data.train)]\n",
    "\n",
    "# Build model\n",
    "# model = build_model(cfg.model)\n",
    "\n",
    "# Create work_dir\n",
    "mmcv.mkdir_or_exist(os.path.abspath(cfg.work_dir))"
   ]
  },
  {
   "cell_type": "code",
   "execution_count": null,
   "id": "bf431e6b",
   "metadata": {},
   "outputs": [],
   "source": []
  },
  {
   "cell_type": "code",
   "execution_count": 9,
   "id": "577e6240",
   "metadata": {
    "scrolled": true
   },
   "outputs": [
    {
     "name": "stderr",
     "output_type": "stream",
     "text": [
      "2023-07-16 15:01:10,619 - mmgen - INFO - load checkpoint from local path: stylegan2-church-config-f-official_20210327_172657-1d42b7d1.pth\n",
      "2023-07-16 15:01:10,885 - mmgen - INFO - Start running, host: Ali@ALI-LAPTOP, work_dir: G:\\mmgeneration\\test_run\n",
      "2023-07-16 15:01:10,886 - mmgen - INFO - workflow: [('train', 1)], max: 100 iters\n",
      "2023-07-16 15:01:10,887 - mmgen - INFO - Checkpoints will be saved to ./test_run\\ckpt\\test_run by HardDiskBackend.\n",
      "2023-07-16 15:01:15,194 - mmgen - INFO - Switch to train style mode: mix\n",
      "2023-07-16 15:01:15,196 - mmgen - INFO - Switch to train style mode: mix\n",
      "2023-07-16 15:01:45,681 - mmgen - INFO - Iter [1/100]\tlr_generator: 1.600e-03 lr_discriminator: 1.882e-03, eta: 0:50:18, time: 30.486, data_time: 0.051, loss_disc_fake_g: 2.3381, loss_path_regular: 37.5606, loss: 1.8219, loss_disc_fake: 0.0011, loss_disc_real: 1.7459, loss_r1_gp: 0.0749\n",
      "2023-07-16 15:01:59,133 - mmgen - INFO - Iter [2/100]\tlr_generator: 1.600e-03 lr_discriminator: 1.882e-03, eta: 0:35:52, time: 13.452, data_time: 0.007, loss_disc_fake_g: 1.4297, loss_path_regular: 37.5606, loss: 0.6946, loss_disc_fake: 0.0561, loss_disc_real: 0.6386, loss_r1_gp: 0.0749\n",
      "2023-07-16 15:02:13,314 - mmgen - INFO - Iter [3/100]\tlr_generator: 1.600e-03 lr_discriminator: 1.882e-03, eta: 0:31:19, time: 14.182, data_time: 0.006, loss_disc_fake_g: 8.1415, loss_path_regular: 37.5606, loss: 0.3818, loss_disc_fake: 0.1604, loss_disc_real: 0.2214, loss_r1_gp: 0.0749\n",
      "2023-07-16 15:02:26,394 - mmgen - INFO - Iter [4/100]\tlr_generator: 1.600e-03 lr_discriminator: 1.882e-03, eta: 0:28:28, time: 13.080, data_time: 0.010, loss_disc_fake_g: 14.0611, loss_path_regular: 37.5606, loss: 0.2497, loss_disc_fake: 0.0000, loss_disc_real: 0.2497, loss_r1_gp: 0.0749\n",
      "2023-07-16 15:02:47,598 - mmgen - INFO - Iter [5/100]\tlr_generator: 1.600e-03 lr_discriminator: 1.882e-03, eta: 0:29:15, time: 21.204, data_time: 0.005, loss_disc_fake_g: 0.3158, loss_path_regular: 12.3439, loss: 0.0788, loss_disc_fake: 0.0000, loss_disc_real: 0.0788, loss_r1_gp: 0.0749\n",
      "2023-07-16 15:03:00,817 - mmgen - INFO - Iter [6/100]\tlr_generator: 1.600e-03 lr_discriminator: 1.882e-03, eta: 0:27:34, time: 13.217, data_time: 0.006, loss_disc_fake_g: 3.0048, loss_path_regular: 12.3439, loss: 0.0297, loss_disc_fake: 0.0037, loss_disc_real: 0.0260, loss_r1_gp: 0.0749\n",
      "2023-07-16 15:03:13,991 - mmgen - INFO - Iter [7/100]\tlr_generator: 1.600e-03 lr_discriminator: 1.882e-03, eta: 0:26:18, time: 13.175, data_time: 0.007, loss_disc_fake_g: 6.8436, loss_path_regular: 12.3439, loss: 0.0196, loss_disc_fake: 0.0031, loss_disc_real: 0.0165, loss_r1_gp: 0.0749\n",
      "2023-07-16 15:03:27,557 - mmgen - INFO - Iter [8/100]\tlr_generator: 1.600e-03 lr_discriminator: 1.882e-03, eta: 0:25:22, time: 13.567, data_time: 0.006, loss_disc_fake_g: 13.9347, loss_path_regular: 12.3439, loss: 0.1178, loss_disc_fake: 0.1015, loss_disc_real: 0.0163, loss_r1_gp: 0.0749\n",
      "2023-07-16 15:03:50,947 - mmgen - INFO - Iter [9/100]\tlr_generator: 1.600e-03 lr_discriminator: 1.882e-03, eta: 0:26:14, time: 23.390, data_time: 0.006, loss_disc_fake_g: 24.6947, loss_path_regular: 5.9493, loss: 0.0576, loss_disc_fake: 0.0000, loss_disc_real: 0.0576, loss_r1_gp: 0.0749\n",
      "2023-07-16 15:04:03,959 - mmgen - INFO - Saving checkpoint at 10 iterations\n",
      "2023-07-16 15:04:15,864 - mmgen - INFO - Switch to evaluation style mode: single\n",
      "2023-07-16 15:04:15,867 - mmgen - INFO - Switch to evaluation style mode: single\n",
      "2023-07-16 15:04:47,263 - mmgen - INFO - Switch to train style mode: mix\n",
      "2023-07-16 15:04:47,265 - mmgen - INFO - Switch to train style mode: mix\n",
      "2023-07-16 15:04:48,131 - mmgen - INFO - Iter [10/100]\tlr_generator: 1.600e-03 lr_discriminator: 1.882e-03, eta: 0:31:56, time: 57.183, data_time: 0.006, loss_disc_fake_g: 17.1351, loss_path_regular: 5.9493, loss: 0.0367, loss_disc_fake: 0.0000, loss_disc_real: 0.0367, loss_r1_gp: 0.0749\n",
      "2023-07-16 15:05:03,556 - mmgen - INFO - Iter [11/100]\tlr_generator: 1.600e-03 lr_discriminator: 1.882e-03, eta: 0:30:47, time: 15.425, data_time: 0.012, loss_disc_fake_g: 25.1056, loss_path_regular: 5.9493, loss: 0.0118, loss_disc_fake: 0.0000, loss_disc_real: 0.0118, loss_r1_gp: 0.0749\n",
      "2023-07-16 15:05:18,059 - mmgen - INFO - Iter [12/100]\tlr_generator: 1.600e-03 lr_discriminator: 1.882e-03, eta: 0:29:41, time: 14.503, data_time: 0.006, loss_disc_fake_g: 21.3420, loss_path_regular: 5.9493, loss: 0.0072, loss_disc_fake: 0.0000, loss_disc_real: 0.0072, loss_r1_gp: 0.0749\n",
      "2023-07-16 15:05:42,291 - mmgen - INFO - Iter [13/100]\tlr_generator: 1.600e-03 lr_discriminator: 1.882e-03, eta: 0:29:47, time: 24.232, data_time: 0.006, loss_disc_fake_g: 8.3896, loss_path_regular: 6.3038, loss: 0.0057, loss_disc_fake: 0.0000, loss_disc_real: 0.0057, loss_r1_gp: 0.0749\n",
      "2023-07-16 15:05:56,505 - mmgen - INFO - Iter [14/100]\tlr_generator: 1.600e-03 lr_discriminator: 1.882e-03, eta: 0:28:48, time: 14.214, data_time: 0.006, loss_disc_fake_g: 3.2826, loss_path_regular: 6.3038, loss: 0.0059, loss_disc_fake: 0.0000, loss_disc_real: 0.0059, loss_r1_gp: 0.0749\n",
      "2023-07-16 15:06:10,514 - mmgen - INFO - Iter [15/100]\tlr_generator: 1.600e-03 lr_discriminator: 1.882e-03, eta: 0:27:53, time: 14.008, data_time: 0.006, loss_disc_fake_g: 8.9811, loss_path_regular: 6.3038, loss: 0.0026, loss_disc_fake: 0.0000, loss_disc_real: 0.0026, loss_r1_gp: 0.0749\n",
      "2023-07-16 15:06:23,809 - mmgen - INFO - Iter [16/100]\tlr_generator: 1.600e-03 lr_discriminator: 1.882e-03, eta: 0:27:00, time: 13.294, data_time: 0.007, loss_disc_fake_g: 26.6417, loss_path_regular: 6.3038, loss: 0.0048, loss_disc_fake: 0.0000, loss_disc_real: 0.0048, loss_r1_gp: 0.0749\n",
      "2023-07-16 15:06:53,134 - mmgen - INFO - Iter [17/100]\tlr_generator: 1.600e-03 lr_discriminator: 1.882e-03, eta: 0:27:29, time: 29.326, data_time: 0.006, loss_disc_fake_g: 15.3553, loss_path_regular: 3.3080, loss: 3.5016, loss_disc_fake: 3.4254, loss_disc_real: 0.0024, loss_r1_gp: 0.0738\n",
      "2023-07-16 15:07:07,282 - mmgen - INFO - Iter [18/100]\tlr_generator: 1.600e-03 lr_discriminator: 1.882e-03, eta: 0:26:43, time: 14.148, data_time: 0.008, loss_disc_fake_g: 7.2908, loss_path_regular: 3.3080, loss: 2.6593, loss_disc_fake: 0.0000, loss_disc_real: 2.6593, loss_r1_gp: 0.0738\n",
      "2023-07-16 15:07:20,986 - mmgen - INFO - Iter [19/100]\tlr_generator: 1.600e-03 lr_discriminator: 1.882e-03, eta: 0:25:59, time: 13.704, data_time: 0.006, loss_disc_fake_g: 1.5209, loss_path_regular: 3.3080, loss: 0.4647, loss_disc_fake: 0.1643, loss_disc_real: 0.3004, loss_r1_gp: 0.0738\n",
      "2023-07-16 15:07:33,815 - mmgen - INFO - Saving checkpoint at 20 iterations\n",
      "2023-07-16 15:07:43,770 - mmgen - INFO - Switch to evaluation style mode: single\n",
      "2023-07-16 15:07:43,772 - mmgen - INFO - Switch to evaluation style mode: single\n",
      "2023-07-16 15:08:11,979 - mmgen - INFO - Switch to train style mode: mix\n",
      "2023-07-16 15:08:11,982 - mmgen - INFO - Switch to train style mode: mix\n",
      "2023-07-16 15:08:12,919 - mmgen - INFO - Iter [20/100]\tlr_generator: 1.600e-03 lr_discriminator: 1.882e-03, eta: 0:27:50, time: 51.934, data_time: 0.006, loss_disc_fake_g: 35.8109, loss_path_regular: 3.3080, loss: 0.1502, loss_disc_fake: 0.0331, loss_disc_real: 0.1172, loss_r1_gp: 0.0738\n",
      "2023-07-16 15:08:35,654 - mmgen - INFO - Iter [21/100]\tlr_generator: 1.600e-03 lr_discriminator: 1.882e-03, eta: 0:27:36, time: 22.735, data_time: 0.010, loss_disc_fake_g: 13.9795, loss_path_regular: 3.0858, loss: 0.0921, loss_disc_fake: 0.0002, loss_disc_real: 0.0919, loss_r1_gp: 0.0738\n",
      "2023-07-16 15:08:49,313 - mmgen - INFO - Iter [22/100]\tlr_generator: 1.600e-03 lr_discriminator: 1.882e-03, eta: 0:26:50, time: 13.659, data_time: 0.006, loss_disc_fake_g: 7.6143, loss_path_regular: 3.0858, loss: 0.0695, loss_disc_fake: 0.0000, loss_disc_real: 0.0695, loss_r1_gp: 0.0738\n",
      "2023-07-16 15:09:03,397 - mmgen - INFO - Iter [23/100]\tlr_generator: 1.600e-03 lr_discriminator: 1.882e-03, eta: 0:26:07, time: 14.083, data_time: 0.005, loss_disc_fake_g: 18.4572, loss_path_regular: 3.0858, loss: 0.0238, loss_disc_fake: 0.0005, loss_disc_real: 0.0233, loss_r1_gp: 0.0738\n",
      "2023-07-16 15:09:15,943 - mmgen - INFO - Iter [24/100]\tlr_generator: 1.600e-03 lr_discriminator: 1.882e-03, eta: 0:25:22, time: 12.546, data_time: 0.007, loss_disc_fake_g: 15.2197, loss_path_regular: 3.0858, loss: 0.0175, loss_disc_fake: 0.0001, loss_disc_real: 0.0174, loss_r1_gp: 0.0738\n"
     ]
    },
    {
     "name": "stderr",
     "output_type": "stream",
     "text": [
      "2023-07-16 15:09:36,513 - mmgen - INFO - Iter [25/100]\tlr_generator: 1.600e-03 lr_discriminator: 1.882e-03, eta: 0:25:03, time: 20.570, data_time: 0.006, loss_disc_fake_g: 31.6696, loss_path_regular: 2.9655, loss: 0.0145, loss_disc_fake: 0.0000, loss_disc_real: 0.0145, loss_r1_gp: 0.0738\n",
      "2023-07-16 15:09:49,625 - mmgen - INFO - Iter [26/100]\tlr_generator: 1.600e-03 lr_discriminator: 1.882e-03, eta: 0:24:24, time: 13.113, data_time: 0.005, loss_disc_fake_g: 2.2012, loss_path_regular: 2.9655, loss: 0.0771, loss_disc_fake: 0.0674, loss_disc_real: 0.0097, loss_r1_gp: 0.0738\n"
     ]
    },
    {
     "ename": "KeyboardInterrupt",
     "evalue": "",
     "output_type": "error",
     "traceback": [
      "\u001b[1;31m---------------------------------------------------------------------------\u001b[0m",
      "\u001b[1;31mKeyboardInterrupt\u001b[0m                         Traceback (most recent call last)",
      "Cell \u001b[1;32mIn[9], line 1\u001b[0m\n\u001b[1;32m----> 1\u001b[0m \u001b[43mtrain_model\u001b[49m\u001b[43m(\u001b[49m\u001b[43mmodel\u001b[49m\u001b[43m,\u001b[49m\u001b[43m \u001b[49m\u001b[43mdatasets\u001b[49m\u001b[43m,\u001b[49m\u001b[43m \u001b[49m\u001b[43mcfg\u001b[49m\u001b[43m,\u001b[49m\u001b[43m \u001b[49m\u001b[43mdistributed\u001b[49m\u001b[38;5;241;43m=\u001b[39;49m\u001b[38;5;28;43;01mFalse\u001b[39;49;00m\u001b[43m,\u001b[49m\u001b[43m \u001b[49m\u001b[43mvalidate\u001b[49m\u001b[38;5;241;43m=\u001b[39;49m\u001b[38;5;28;43;01mTrue\u001b[39;49;00m\u001b[43m)\u001b[49m\n",
      "File \u001b[1;32mG:\\mmgeneration\\mmgen\\apis\\train.py:207\u001b[0m, in \u001b[0;36mtrain_model\u001b[1;34m(model, dataset, cfg, distributed, validate, timestamp, meta)\u001b[0m\n\u001b[0;32m    205\u001b[0m \u001b[38;5;28;01melif\u001b[39;00m cfg\u001b[38;5;241m.\u001b[39mload_from:\n\u001b[0;32m    206\u001b[0m     runner\u001b[38;5;241m.\u001b[39mload_checkpoint(cfg\u001b[38;5;241m.\u001b[39mload_from)\n\u001b[1;32m--> 207\u001b[0m \u001b[43mrunner\u001b[49m\u001b[38;5;241;43m.\u001b[39;49m\u001b[43mrun\u001b[49m\u001b[43m(\u001b[49m\u001b[43mdata_loaders\u001b[49m\u001b[43m,\u001b[49m\u001b[43m \u001b[49m\u001b[43mcfg\u001b[49m\u001b[38;5;241;43m.\u001b[39;49m\u001b[43mworkflow\u001b[49m\u001b[43m,\u001b[49m\u001b[43m \u001b[49m\u001b[43mcfg\u001b[49m\u001b[38;5;241;43m.\u001b[39;49m\u001b[43mtotal_iters\u001b[49m\u001b[43m)\u001b[49m\n",
      "File \u001b[1;32mG:\\mmgeneration\\mmgen\\core\\runners\\dynamic_iterbased_runner.py:285\u001b[0m, in \u001b[0;36mDynamicIterBasedRunner.run\u001b[1;34m(self, data_loaders, workflow, max_iters, **kwargs)\u001b[0m\n\u001b[0;32m    283\u001b[0m             \u001b[38;5;28;01mif\u001b[39;00m mode \u001b[38;5;241m==\u001b[39m \u001b[38;5;124m'\u001b[39m\u001b[38;5;124mtrain\u001b[39m\u001b[38;5;124m'\u001b[39m \u001b[38;5;129;01mand\u001b[39;00m \u001b[38;5;28mself\u001b[39m\u001b[38;5;241m.\u001b[39miter \u001b[38;5;241m>\u001b[39m\u001b[38;5;241m=\u001b[39m \u001b[38;5;28mself\u001b[39m\u001b[38;5;241m.\u001b[39m_max_iters:\n\u001b[0;32m    284\u001b[0m                 \u001b[38;5;28;01mbreak\u001b[39;00m\n\u001b[1;32m--> 285\u001b[0m             iter_runner(iter_loaders[i], \u001b[38;5;241m*\u001b[39m\u001b[38;5;241m*\u001b[39mkwargs)\n\u001b[0;32m    287\u001b[0m time\u001b[38;5;241m.\u001b[39msleep(\u001b[38;5;241m1\u001b[39m)  \u001b[38;5;66;03m# wait for some hooks like loggers to finish\u001b[39;00m\n\u001b[0;32m    288\u001b[0m \u001b[38;5;28mself\u001b[39m\u001b[38;5;241m.\u001b[39mcall_hook(\u001b[38;5;124m'\u001b[39m\u001b[38;5;124mafter_epoch\u001b[39m\u001b[38;5;124m'\u001b[39m)\n",
      "File \u001b[1;32mG:\\mmgeneration\\mmgen\\core\\runners\\dynamic_iterbased_runner.py:215\u001b[0m, in \u001b[0;36mDynamicIterBasedRunner.train\u001b[1;34m(self, data_loader, **kwargs)\u001b[0m\n\u001b[0;32m    212\u001b[0m \u001b[38;5;28;01mif\u001b[39;00m \u001b[38;5;28mself\u001b[39m\u001b[38;5;241m.\u001b[39muse_apex_amp:\n\u001b[0;32m    213\u001b[0m     kwargs\u001b[38;5;241m.\u001b[39mupdate(\u001b[38;5;28mdict\u001b[39m(use_apex_amp\u001b[38;5;241m=\u001b[39m\u001b[38;5;28;01mTrue\u001b[39;00m))\n\u001b[1;32m--> 215\u001b[0m outputs \u001b[38;5;241m=\u001b[39m \u001b[38;5;28mself\u001b[39m\u001b[38;5;241m.\u001b[39mmodel\u001b[38;5;241m.\u001b[39mtrain_step(data_batch, \u001b[38;5;28mself\u001b[39m\u001b[38;5;241m.\u001b[39moptimizer, \u001b[38;5;241m*\u001b[39m\u001b[38;5;241m*\u001b[39mkwargs)\n\u001b[0;32m    217\u001b[0m \u001b[38;5;66;03m# the loss scaler should be updated after ``train_step``\u001b[39;00m\n\u001b[0;32m    218\u001b[0m \u001b[38;5;28;01mif\u001b[39;00m \u001b[38;5;28mself\u001b[39m\u001b[38;5;241m.\u001b[39mwith_fp16_grad_scaler:\n",
      "File \u001b[1;32m~\\Anaconda3\\envs\\mmedit\\lib\\site-packages\\mmcv\\parallel\\data_parallel.py:62\u001b[0m, in \u001b[0;36mMMDataParallel.train_step\u001b[1;34m(self, *inputs, **kwargs)\u001b[0m\n\u001b[0;32m     58\u001b[0m \u001b[38;5;28;01mif\u001b[39;00m \u001b[38;5;129;01mnot\u001b[39;00m \u001b[38;5;28mself\u001b[39m\u001b[38;5;241m.\u001b[39mdevice_ids:\n\u001b[0;32m     59\u001b[0m     \u001b[38;5;66;03m# We add the following line thus the module could gather and\u001b[39;00m\n\u001b[0;32m     60\u001b[0m     \u001b[38;5;66;03m# convert data containers as those in GPU inference\u001b[39;00m\n\u001b[0;32m     61\u001b[0m     inputs, kwargs \u001b[38;5;241m=\u001b[39m \u001b[38;5;28mself\u001b[39m\u001b[38;5;241m.\u001b[39mscatter(inputs, kwargs, [\u001b[38;5;241m-\u001b[39m\u001b[38;5;241m1\u001b[39m])\n\u001b[1;32m---> 62\u001b[0m     \u001b[38;5;28;01mreturn\u001b[39;00m \u001b[38;5;28mself\u001b[39m\u001b[38;5;241m.\u001b[39mmodule\u001b[38;5;241m.\u001b[39mtrain_step(\u001b[38;5;241m*\u001b[39minputs[\u001b[38;5;241m0\u001b[39m], \u001b[38;5;241m*\u001b[39m\u001b[38;5;241m*\u001b[39mkwargs[\u001b[38;5;241m0\u001b[39m])\n\u001b[0;32m     64\u001b[0m \u001b[38;5;28;01massert\u001b[39;00m \u001b[38;5;28mlen\u001b[39m(\u001b[38;5;28mself\u001b[39m\u001b[38;5;241m.\u001b[39mdevice_ids) \u001b[38;5;241m==\u001b[39m \u001b[38;5;241m1\u001b[39m, \\\n\u001b[0;32m     65\u001b[0m     (\u001b[38;5;124m'\u001b[39m\u001b[38;5;124mMMDataParallel only supports single GPU training, if you need to\u001b[39m\u001b[38;5;124m'\u001b[39m\n\u001b[0;32m     66\u001b[0m      \u001b[38;5;124m'\u001b[39m\u001b[38;5;124m train with multiple GPUs, please use MMDistributedDataParallel\u001b[39m\u001b[38;5;124m'\u001b[39m\n\u001b[0;32m     67\u001b[0m      \u001b[38;5;124m'\u001b[39m\u001b[38;5;124m instead.\u001b[39m\u001b[38;5;124m'\u001b[39m)\n\u001b[0;32m     69\u001b[0m \u001b[38;5;28;01mfor\u001b[39;00m t \u001b[38;5;129;01min\u001b[39;00m chain(\u001b[38;5;28mself\u001b[39m\u001b[38;5;241m.\u001b[39mmodule\u001b[38;5;241m.\u001b[39mparameters(), \u001b[38;5;28mself\u001b[39m\u001b[38;5;241m.\u001b[39mmodule\u001b[38;5;241m.\u001b[39mbuffers()):\n",
      "File \u001b[1;32mG:\\mmgeneration\\mmgen\\models\\gans\\static_unconditional_gan.py:279\u001b[0m, in \u001b[0;36mStaticUnconditionalGAN.train_step\u001b[1;34m(self, data_batch, optimizer, ddp_reducer, loss_scaler, use_apex_amp, running_status)\u001b[0m\n\u001b[0;32m    277\u001b[0m         scaled_loss_disc\u001b[38;5;241m.\u001b[39mbackward()\n\u001b[0;32m    278\u001b[0m \u001b[38;5;28;01melse\u001b[39;00m:\n\u001b[1;32m--> 279\u001b[0m     \u001b[43mloss_gen\u001b[49m\u001b[38;5;241;43m.\u001b[39;49m\u001b[43mbackward\u001b[49m\u001b[43m(\u001b[49m\u001b[43m)\u001b[49m\n\u001b[0;32m    281\u001b[0m \u001b[38;5;28;01mif\u001b[39;00m loss_scaler:\n\u001b[0;32m    282\u001b[0m     loss_scaler\u001b[38;5;241m.\u001b[39munscale_(optimizer[\u001b[38;5;124m'\u001b[39m\u001b[38;5;124mgenerator\u001b[39m\u001b[38;5;124m'\u001b[39m])\n",
      "File \u001b[1;32m~\\Anaconda3\\envs\\mmedit\\lib\\site-packages\\torch\\_tensor.py:488\u001b[0m, in \u001b[0;36mTensor.backward\u001b[1;34m(self, gradient, retain_graph, create_graph, inputs)\u001b[0m\n\u001b[0;32m    478\u001b[0m \u001b[38;5;28;01mif\u001b[39;00m has_torch_function_unary(\u001b[38;5;28mself\u001b[39m):\n\u001b[0;32m    479\u001b[0m     \u001b[38;5;28;01mreturn\u001b[39;00m handle_torch_function(\n\u001b[0;32m    480\u001b[0m         Tensor\u001b[38;5;241m.\u001b[39mbackward,\n\u001b[0;32m    481\u001b[0m         (\u001b[38;5;28mself\u001b[39m,),\n\u001b[1;32m   (...)\u001b[0m\n\u001b[0;32m    486\u001b[0m         inputs\u001b[38;5;241m=\u001b[39minputs,\n\u001b[0;32m    487\u001b[0m     )\n\u001b[1;32m--> 488\u001b[0m \u001b[43mtorch\u001b[49m\u001b[38;5;241;43m.\u001b[39;49m\u001b[43mautograd\u001b[49m\u001b[38;5;241;43m.\u001b[39;49m\u001b[43mbackward\u001b[49m\u001b[43m(\u001b[49m\n\u001b[0;32m    489\u001b[0m \u001b[43m    \u001b[49m\u001b[38;5;28;43mself\u001b[39;49m\u001b[43m,\u001b[49m\u001b[43m \u001b[49m\u001b[43mgradient\u001b[49m\u001b[43m,\u001b[49m\u001b[43m \u001b[49m\u001b[43mretain_graph\u001b[49m\u001b[43m,\u001b[49m\u001b[43m \u001b[49m\u001b[43mcreate_graph\u001b[49m\u001b[43m,\u001b[49m\u001b[43m \u001b[49m\u001b[43minputs\u001b[49m\u001b[38;5;241;43m=\u001b[39;49m\u001b[43minputs\u001b[49m\n\u001b[0;32m    490\u001b[0m \u001b[43m\u001b[49m\u001b[43m)\u001b[49m\n",
      "File \u001b[1;32m~\\Anaconda3\\envs\\mmedit\\lib\\site-packages\\torch\\autograd\\__init__.py:197\u001b[0m, in \u001b[0;36mbackward\u001b[1;34m(tensors, grad_tensors, retain_graph, create_graph, grad_variables, inputs)\u001b[0m\n\u001b[0;32m    192\u001b[0m     retain_graph \u001b[38;5;241m=\u001b[39m create_graph\n\u001b[0;32m    194\u001b[0m \u001b[38;5;66;03m# The reason we repeat same the comment below is that\u001b[39;00m\n\u001b[0;32m    195\u001b[0m \u001b[38;5;66;03m# some Python versions print out the first line of a multi-line function\u001b[39;00m\n\u001b[0;32m    196\u001b[0m \u001b[38;5;66;03m# calls in the traceback and some print out the last line\u001b[39;00m\n\u001b[1;32m--> 197\u001b[0m \u001b[43mVariable\u001b[49m\u001b[38;5;241;43m.\u001b[39;49m\u001b[43m_execution_engine\u001b[49m\u001b[38;5;241;43m.\u001b[39;49m\u001b[43mrun_backward\u001b[49m\u001b[43m(\u001b[49m\u001b[43m  \u001b[49m\u001b[38;5;66;43;03m# Calls into the C++ engine to run the backward pass\u001b[39;49;00m\n\u001b[0;32m    198\u001b[0m \u001b[43m    \u001b[49m\u001b[43mtensors\u001b[49m\u001b[43m,\u001b[49m\u001b[43m \u001b[49m\u001b[43mgrad_tensors_\u001b[49m\u001b[43m,\u001b[49m\u001b[43m \u001b[49m\u001b[43mretain_graph\u001b[49m\u001b[43m,\u001b[49m\u001b[43m \u001b[49m\u001b[43mcreate_graph\u001b[49m\u001b[43m,\u001b[49m\u001b[43m \u001b[49m\u001b[43minputs\u001b[49m\u001b[43m,\u001b[49m\n\u001b[0;32m    199\u001b[0m \u001b[43m    \u001b[49m\u001b[43mallow_unreachable\u001b[49m\u001b[38;5;241;43m=\u001b[39;49m\u001b[38;5;28;43;01mTrue\u001b[39;49;00m\u001b[43m,\u001b[49m\u001b[43m \u001b[49m\u001b[43maccumulate_grad\u001b[49m\u001b[38;5;241;43m=\u001b[39;49m\u001b[38;5;28;43;01mTrue\u001b[39;49;00m\u001b[43m)\u001b[49m\n",
      "\u001b[1;31mKeyboardInterrupt\u001b[0m: "
     ]
    }
   ],
   "source": [
    "train_model(model, datasets, cfg, distributed=False, validate=True)"
   ]
  },
  {
   "cell_type": "code",
   "execution_count": null,
   "id": "1740f72e",
   "metadata": {},
   "outputs": [],
   "source": []
  },
  {
   "cell_type": "code",
   "execution_count": null,
   "id": "5aaf7162",
   "metadata": {},
   "outputs": [],
   "source": [
    "# !python tools/train.py \\\n",
    "#     \"configs/styleganv2/stylegan2_c2_lsun-church_256_b4x8_800k.py\" \\\n",
    "#     --work-dir \"./test_run/\""
   ]
  },
  {
   "cell_type": "code",
   "execution_count": null,
   "id": "4624324a",
   "metadata": {},
   "outputs": [],
   "source": []
  },
  {
   "cell_type": "code",
   "execution_count": null,
   "id": "ae780d0f",
   "metadata": {},
   "outputs": [],
   "source": []
  }
 ],
 "metadata": {
  "kernelspec": {
   "display_name": "Python 3 (ipykernel)",
   "language": "python",
   "name": "python3"
  },
  "language_info": {
   "codemirror_mode": {
    "name": "ipython",
    "version": 3
   },
   "file_extension": ".py",
   "mimetype": "text/x-python",
   "name": "python",
   "nbconvert_exporter": "python",
   "pygments_lexer": "ipython3",
   "version": "3.9.17"
  }
 },
 "nbformat": 4,
 "nbformat_minor": 5
}
