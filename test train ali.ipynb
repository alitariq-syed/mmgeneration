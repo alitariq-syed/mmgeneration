{
 "cells": [
  {
   "cell_type": "code",
   "execution_count": 1,
   "id": "ae4cb74e",
   "metadata": {},
   "outputs": [],
   "source": [
    "import os\n",
    "# Set CUDA visible devices\n",
    "os.environ['CUDA_VISIBLE_DEVICES'] = '0' #'-1'"
   ]
  },
  {
   "cell_type": "code",
   "execution_count": 2,
   "id": "afd33eae",
   "metadata": {},
   "outputs": [
    {
     "name": "stdout",
     "output_type": "stream",
     "text": [
      "Torch Version:  1.7.1+cu110\n",
      "Is Torch CUDA available?  True\n"
     ]
    },
    {
     "name": "stderr",
     "output_type": "stream",
     "text": [
      "C:\\Users\\Ali\\Anaconda3\\envs\\mmgen\\lib\\site-packages\\mmcv\\__init__.py:20: UserWarning: On January 1, 2023, MMCV will release v2.0.0, in which it will remove components related to the training process and add a data transformation module. In addition, it will rename the package names mmcv to mmcv-lite and mmcv-full to mmcv. See https://github.com/open-mmlab/mmcv/blob/master/docs/en/compatibility.md for more details.\n",
      "  warnings.warn(\n"
     ]
    },
    {
     "name": "stdout",
     "output_type": "stream",
     "text": [
      "MMGeneration Version:  0.7.3\n"
     ]
    },
    {
     "ename": "ImportError",
     "evalue": "DLL load failed while importing _ext: The specified procedure could not be found.",
     "output_type": "error",
     "traceback": [
      "\u001b[1;31m---------------------------------------------------------------------------\u001b[0m",
      "\u001b[1;31mImportError\u001b[0m                               Traceback (most recent call last)",
      "Cell \u001b[1;32mIn[2], line 11\u001b[0m\n\u001b[0;32m      8\u001b[0m \u001b[38;5;28mprint\u001b[39m(\u001b[38;5;124m'\u001b[39m\u001b[38;5;124mMMGeneration Version: \u001b[39m\u001b[38;5;124m'\u001b[39m, mmgen\u001b[38;5;241m.\u001b[39m__version__)\n\u001b[0;32m     10\u001b[0m \u001b[38;5;66;03m# Check mmcv installation\u001b[39;00m\n\u001b[1;32m---> 11\u001b[0m \u001b[38;5;28;01mfrom\u001b[39;00m \u001b[38;5;21;01mmmcv\u001b[39;00m\u001b[38;5;21;01m.\u001b[39;00m\u001b[38;5;21;01mops\u001b[39;00m \u001b[38;5;28;01mimport\u001b[39;00m get_compiling_cuda_version, get_compiler_version\n\u001b[0;32m     12\u001b[0m \u001b[38;5;28mprint\u001b[39m(\u001b[38;5;124m'\u001b[39m\u001b[38;5;124mCUDA Compiler Version: \u001b[39m\u001b[38;5;124m'\u001b[39m, get_compiling_cuda_version())\n\u001b[0;32m     13\u001b[0m \u001b[38;5;28mprint\u001b[39m(\u001b[38;5;124m'\u001b[39m\u001b[38;5;124mGCC Version: \u001b[39m\u001b[38;5;124m'\u001b[39m,get_compiler_version())\n",
      "File \u001b[1;32m~\\Anaconda3\\envs\\mmgen\\lib\\site-packages\\mmcv\\ops\\__init__.py:3\u001b[0m\n\u001b[0;32m      1\u001b[0m \u001b[38;5;66;03m# Copyright (c) OpenMMLab. All rights reserved.\u001b[39;00m\n\u001b[0;32m      2\u001b[0m \u001b[38;5;28;01mfrom\u001b[39;00m \u001b[38;5;21;01mmmcv\u001b[39;00m\u001b[38;5;21;01m.\u001b[39;00m\u001b[38;5;21;01mutils\u001b[39;00m \u001b[38;5;28;01mimport\u001b[39;00m IS_MLU_AVAILABLE\n\u001b[1;32m----> 3\u001b[0m \u001b[38;5;28;01mfrom\u001b[39;00m \u001b[38;5;21;01m.\u001b[39;00m\u001b[38;5;21;01mactive_rotated_filter\u001b[39;00m \u001b[38;5;28;01mimport\u001b[39;00m active_rotated_filter\n\u001b[0;32m      4\u001b[0m \u001b[38;5;28;01mfrom\u001b[39;00m \u001b[38;5;21;01m.\u001b[39;00m\u001b[38;5;21;01massign_score_withk\u001b[39;00m \u001b[38;5;28;01mimport\u001b[39;00m assign_score_withk\n\u001b[0;32m      5\u001b[0m \u001b[38;5;28;01mfrom\u001b[39;00m \u001b[38;5;21;01m.\u001b[39;00m\u001b[38;5;21;01mball_query\u001b[39;00m \u001b[38;5;28;01mimport\u001b[39;00m ball_query\n",
      "File \u001b[1;32m~\\Anaconda3\\envs\\mmgen\\lib\\site-packages\\mmcv\\ops\\active_rotated_filter.py:10\u001b[0m\n\u001b[0;32m      6\u001b[0m \u001b[38;5;28;01mfrom\u001b[39;00m \u001b[38;5;21;01mtorch\u001b[39;00m\u001b[38;5;21;01m.\u001b[39;00m\u001b[38;5;21;01mautograd\u001b[39;00m\u001b[38;5;21;01m.\u001b[39;00m\u001b[38;5;21;01mfunction\u001b[39;00m \u001b[38;5;28;01mimport\u001b[39;00m once_differentiable\n\u001b[0;32m      8\u001b[0m \u001b[38;5;28;01mfrom\u001b[39;00m \u001b[38;5;21;01m.\u001b[39;00m\u001b[38;5;21;01m.\u001b[39;00m\u001b[38;5;21;01mutils\u001b[39;00m \u001b[38;5;28;01mimport\u001b[39;00m ext_loader\n\u001b[1;32m---> 10\u001b[0m ext_module \u001b[38;5;241m=\u001b[39m \u001b[43mext_loader\u001b[49m\u001b[38;5;241;43m.\u001b[39;49m\u001b[43mload_ext\u001b[49m\u001b[43m(\u001b[49m\n\u001b[0;32m     11\u001b[0m \u001b[43m    \u001b[49m\u001b[38;5;124;43m'\u001b[39;49m\u001b[38;5;124;43m_ext\u001b[39;49m\u001b[38;5;124;43m'\u001b[39;49m\u001b[43m,\u001b[49m\n\u001b[0;32m     12\u001b[0m \u001b[43m    \u001b[49m\u001b[43m[\u001b[49m\u001b[38;5;124;43m'\u001b[39;49m\u001b[38;5;124;43mactive_rotated_filter_forward\u001b[39;49m\u001b[38;5;124;43m'\u001b[39;49m\u001b[43m,\u001b[49m\u001b[43m \u001b[49m\u001b[38;5;124;43m'\u001b[39;49m\u001b[38;5;124;43mactive_rotated_filter_backward\u001b[39;49m\u001b[38;5;124;43m'\u001b[39;49m\u001b[43m]\u001b[49m\u001b[43m)\u001b[49m\n\u001b[0;32m     15\u001b[0m \u001b[38;5;28;01mclass\u001b[39;00m \u001b[38;5;21;01mActiveRotatedFilterFunction\u001b[39;00m(Function):\n\u001b[0;32m     16\u001b[0m \u001b[38;5;250m    \u001b[39m\u001b[38;5;124;03m\"\"\"Encoding the orientation information and generating orientation-\u001b[39;00m\n\u001b[0;32m     17\u001b[0m \u001b[38;5;124;03m    sensitive features.\u001b[39;00m\n\u001b[0;32m     18\u001b[0m \n\u001b[0;32m     19\u001b[0m \u001b[38;5;124;03m    The details are described in the paper `Align Deep Features for Oriented\u001b[39;00m\n\u001b[0;32m     20\u001b[0m \u001b[38;5;124;03m    Object Detection  <https://arxiv.org/abs/2008.09397>_`.\u001b[39;00m\n\u001b[0;32m     21\u001b[0m \u001b[38;5;124;03m    \"\"\"\u001b[39;00m\n",
      "File \u001b[1;32m~\\Anaconda3\\envs\\mmgen\\lib\\site-packages\\mmcv\\utils\\ext_loader.py:13\u001b[0m, in \u001b[0;36mload_ext\u001b[1;34m(name, funcs)\u001b[0m\n\u001b[0;32m     12\u001b[0m \u001b[38;5;28;01mdef\u001b[39;00m \u001b[38;5;21mload_ext\u001b[39m(name, funcs):\n\u001b[1;32m---> 13\u001b[0m     ext \u001b[38;5;241m=\u001b[39m \u001b[43mimportlib\u001b[49m\u001b[38;5;241;43m.\u001b[39;49m\u001b[43mimport_module\u001b[49m\u001b[43m(\u001b[49m\u001b[38;5;124;43m'\u001b[39;49m\u001b[38;5;124;43mmmcv.\u001b[39;49m\u001b[38;5;124;43m'\u001b[39;49m\u001b[43m \u001b[49m\u001b[38;5;241;43m+\u001b[39;49m\u001b[43m \u001b[49m\u001b[43mname\u001b[49m\u001b[43m)\u001b[49m\n\u001b[0;32m     14\u001b[0m     \u001b[38;5;28;01mfor\u001b[39;00m fun \u001b[38;5;129;01min\u001b[39;00m funcs:\n\u001b[0;32m     15\u001b[0m         \u001b[38;5;28;01massert\u001b[39;00m \u001b[38;5;28mhasattr\u001b[39m(ext, fun), \u001b[38;5;124mf\u001b[39m\u001b[38;5;124m'\u001b[39m\u001b[38;5;132;01m{\u001b[39;00mfun\u001b[38;5;132;01m}\u001b[39;00m\u001b[38;5;124m miss in module \u001b[39m\u001b[38;5;132;01m{\u001b[39;00mname\u001b[38;5;132;01m}\u001b[39;00m\u001b[38;5;124m'\u001b[39m\n",
      "File \u001b[1;32m~\\Anaconda3\\envs\\mmgen\\lib\\importlib\\__init__.py:127\u001b[0m, in \u001b[0;36mimport_module\u001b[1;34m(name, package)\u001b[0m\n\u001b[0;32m    125\u001b[0m             \u001b[38;5;28;01mbreak\u001b[39;00m\n\u001b[0;32m    126\u001b[0m         level \u001b[38;5;241m+\u001b[39m\u001b[38;5;241m=\u001b[39m \u001b[38;5;241m1\u001b[39m\n\u001b[1;32m--> 127\u001b[0m \u001b[38;5;28;01mreturn\u001b[39;00m \u001b[43m_bootstrap\u001b[49m\u001b[38;5;241;43m.\u001b[39;49m\u001b[43m_gcd_import\u001b[49m\u001b[43m(\u001b[49m\u001b[43mname\u001b[49m\u001b[43m[\u001b[49m\u001b[43mlevel\u001b[49m\u001b[43m:\u001b[49m\u001b[43m]\u001b[49m\u001b[43m,\u001b[49m\u001b[43m \u001b[49m\u001b[43mpackage\u001b[49m\u001b[43m,\u001b[49m\u001b[43m \u001b[49m\u001b[43mlevel\u001b[49m\u001b[43m)\u001b[49m\n",
      "\u001b[1;31mImportError\u001b[0m: DLL load failed while importing _ext: The specified procedure could not be found."
     ]
    }
   ],
   "source": [
    "# Check Pytorch installation\n",
    "import torch, torchvision\n",
    "print('Torch Version: ',torch.__version__)\n",
    "print('Is Torch CUDA available? ', torch.cuda.is_available())\n",
    "\n",
    "# Check MMDetection installation\n",
    "import mmgen\n",
    "print('MMGeneration Version: ', mmgen.__version__)\n",
    "\n",
    "# Check mmcv installation\n",
    "from mmcv.ops import get_compiling_cuda_version, get_compiler_version\n",
    "print('CUDA Compiler Version: ', get_compiling_cuda_version())\n",
    "print('GCC Version: ',get_compiler_version())"
   ]
  },
  {
   "cell_type": "code",
   "execution_count": 3,
   "id": "d83abdc4",
   "metadata": {},
   "outputs": [
    {
     "data": {
      "text/plain": [
       "['.circleci',\n",
       " '.dev_scripts',\n",
       " '.git',\n",
       " '.github',\n",
       " '.gitignore',\n",
       " '.ipynb_checkpoints',\n",
       " '.pre-commit-config.yaml',\n",
       " '.pylintrc',\n",
       " '.readthedocs.yml',\n",
       " 'apps',\n",
       " 'build',\n",
       " 'CITATION.cff',\n",
       " 'configs',\n",
       " 'demo',\n",
       " 'docker',\n",
       " 'docs',\n",
       " 'LICENSE',\n",
       " 'LICENSES.md',\n",
       " 'MANIFEST.in',\n",
       " 'mmcv_full-1.7.1-cp39-cp39-win_amd64.whl',\n",
       " 'mmgen',\n",
       " 'mmgen.egg-info',\n",
       " 'model-index.yml',\n",
       " 'output',\n",
       " 'README.md',\n",
       " 'README_zh-CN.md',\n",
       " 'requirements',\n",
       " 'requirements.txt',\n",
       " 'setup.cfg',\n",
       " 'setup.py',\n",
       " 'stylegan2-church-config-f-official_20210327_172657-1d42b7d1.pth',\n",
       " 'test run ali.ipynb',\n",
       " 'test train ali.ipynb',\n",
       " 'tests',\n",
       " 'test_run',\n",
       " 'tools']"
      ]
     },
     "execution_count": 3,
     "metadata": {},
     "output_type": "execute_result"
    }
   ],
   "source": [
    "import os\n",
    "os.chdir('G:/mmgeneration')\n",
    "os.listdir()"
   ]
  },
  {
   "cell_type": "code",
   "execution_count": 4,
   "id": "6cf47751",
   "metadata": {},
   "outputs": [
    {
     "name": "stderr",
     "output_type": "stream",
     "text": [
      "C:\\Users\\Ali\\Anaconda3\\envs\\mmgen\\lib\\site-packages\\mmcv\\cnn\\bricks\\transformer.py:33: UserWarning: Fail to import ``MultiScaleDeformableAttention`` from ``mmcv.ops.multi_scale_deform_attn``, You should install ``mmcv-full`` if you need this module. \n",
      "  warnings.warn('Fail to import ``MultiScaleDeformableAttention`` from '\n"
     ]
    },
    {
     "ename": "ImportError",
     "evalue": "DLL load failed while importing _ext: The specified procedure could not be found.",
     "output_type": "error",
     "traceback": [
      "\u001b[1;31m---------------------------------------------------------------------------\u001b[0m",
      "\u001b[1;31mImportError\u001b[0m                               Traceback (most recent call last)",
      "Cell \u001b[1;32mIn[4], line 2\u001b[0m\n\u001b[0;32m      1\u001b[0m \u001b[38;5;28;01mimport\u001b[39;00m \u001b[38;5;21;01mmmcv\u001b[39;00m\n\u001b[1;32m----> 2\u001b[0m \u001b[38;5;28;01mfrom\u001b[39;00m \u001b[38;5;21;01mmmgen\u001b[39;00m\u001b[38;5;21;01m.\u001b[39;00m\u001b[38;5;21;01mapis\u001b[39;00m \u001b[38;5;28;01mimport\u001b[39;00m init_model, sample_unconditional_model\n\u001b[0;32m      4\u001b[0m \u001b[38;5;66;03m# Specify the path to model config and checkpoint file\u001b[39;00m\n\u001b[0;32m      5\u001b[0m \u001b[38;5;66;03m# config_file = 'configs/styleganv2/stylegan2_c2_lsun-church_256_b4x8_800k.py'\u001b[39;00m\n\u001b[0;32m      6\u001b[0m config_file \u001b[38;5;241m=\u001b[39m \u001b[38;5;124m'\u001b[39m\u001b[38;5;124mconfigs/styleganv2/stylegan2_c2_places365_256_b4x8_800k_ali.py\u001b[39m\u001b[38;5;124m'\u001b[39m\n",
      "File \u001b[1;32mG:\\mmgeneration\\mmgen\\apis\\__init__.py:2\u001b[0m\n\u001b[0;32m      1\u001b[0m \u001b[38;5;66;03m# Copyright (c) OpenMMLab. All rights reserved.\u001b[39;00m\n\u001b[1;32m----> 2\u001b[0m \u001b[38;5;28;01mfrom\u001b[39;00m \u001b[38;5;21;01m.\u001b[39;00m\u001b[38;5;21;01minference\u001b[39;00m \u001b[38;5;28;01mimport\u001b[39;00m (init_model, sample_conditional_model,\n\u001b[0;32m      3\u001b[0m                         sample_ddpm_model, sample_img2img_model,\n\u001b[0;32m      4\u001b[0m                         sample_unconditional_model)\n\u001b[0;32m      5\u001b[0m \u001b[38;5;28;01mfrom\u001b[39;00m \u001b[38;5;21;01m.\u001b[39;00m\u001b[38;5;21;01mtrain\u001b[39;00m \u001b[38;5;28;01mimport\u001b[39;00m set_random_seed, train_model\n\u001b[0;32m      7\u001b[0m __all__ \u001b[38;5;241m=\u001b[39m [\n\u001b[0;32m      8\u001b[0m     \u001b[38;5;124m'\u001b[39m\u001b[38;5;124mset_random_seed\u001b[39m\u001b[38;5;124m'\u001b[39m, \u001b[38;5;124m'\u001b[39m\u001b[38;5;124mtrain_model\u001b[39m\u001b[38;5;124m'\u001b[39m, \u001b[38;5;124m'\u001b[39m\u001b[38;5;124minit_model\u001b[39m\u001b[38;5;124m'\u001b[39m, \u001b[38;5;124m'\u001b[39m\u001b[38;5;124msample_img2img_model\u001b[39m\u001b[38;5;124m'\u001b[39m,\n\u001b[0;32m      9\u001b[0m     \u001b[38;5;124m'\u001b[39m\u001b[38;5;124msample_unconditional_model\u001b[39m\u001b[38;5;124m'\u001b[39m, \u001b[38;5;124m'\u001b[39m\u001b[38;5;124msample_conditional_model\u001b[39m\u001b[38;5;124m'\u001b[39m,\n\u001b[0;32m     10\u001b[0m     \u001b[38;5;124m'\u001b[39m\u001b[38;5;124msample_ddpm_model\u001b[39m\u001b[38;5;124m'\u001b[39m\n\u001b[0;32m     11\u001b[0m ]\n",
      "File \u001b[1;32mG:\\mmgeneration\\mmgen\\apis\\inference.py:9\u001b[0m\n\u001b[0;32m      6\u001b[0m \u001b[38;5;28;01mfrom\u001b[39;00m \u001b[38;5;21;01mmmcv\u001b[39;00m\u001b[38;5;21;01m.\u001b[39;00m\u001b[38;5;21;01mutils\u001b[39;00m \u001b[38;5;28;01mimport\u001b[39;00m is_list_of\n\u001b[0;32m      8\u001b[0m \u001b[38;5;28;01mfrom\u001b[39;00m \u001b[38;5;21;01mmmgen\u001b[39;00m\u001b[38;5;21;01m.\u001b[39;00m\u001b[38;5;21;01mdatasets\u001b[39;00m\u001b[38;5;21;01m.\u001b[39;00m\u001b[38;5;21;01mpipelines\u001b[39;00m \u001b[38;5;28;01mimport\u001b[39;00m Compose\n\u001b[1;32m----> 9\u001b[0m \u001b[38;5;28;01mfrom\u001b[39;00m \u001b[38;5;21;01mmmgen\u001b[39;00m\u001b[38;5;21;01m.\u001b[39;00m\u001b[38;5;21;01mmodels\u001b[39;00m \u001b[38;5;28;01mimport\u001b[39;00m BaseTranslationModel, build_model\n\u001b[0;32m     12\u001b[0m \u001b[38;5;28;01mdef\u001b[39;00m \u001b[38;5;21minit_model\u001b[39m(config, checkpoint\u001b[38;5;241m=\u001b[39m\u001b[38;5;28;01mNone\u001b[39;00m, device\u001b[38;5;241m=\u001b[39m\u001b[38;5;124m'\u001b[39m\u001b[38;5;124mcuda:0\u001b[39m\u001b[38;5;124m'\u001b[39m, cfg_options\u001b[38;5;241m=\u001b[39m\u001b[38;5;28;01mNone\u001b[39;00m):\n\u001b[0;32m     13\u001b[0m \u001b[38;5;250m    \u001b[39m\u001b[38;5;124;03m\"\"\"Initialize a detector from config file.\u001b[39;00m\n\u001b[0;32m     14\u001b[0m \n\u001b[0;32m     15\u001b[0m \u001b[38;5;124;03m    Args:\u001b[39;00m\n\u001b[1;32m   (...)\u001b[0m\n\u001b[0;32m     24\u001b[0m \u001b[38;5;124;03m        nn.Module: The constructed unconditional model.\u001b[39;00m\n\u001b[0;32m     25\u001b[0m \u001b[38;5;124;03m    \"\"\"\u001b[39;00m\n",
      "File \u001b[1;32mG:\\mmgeneration\\mmgen\\models\\__init__.py:2\u001b[0m\n\u001b[0;32m      1\u001b[0m \u001b[38;5;66;03m# Copyright (c) OpenMMLab. All rights reserved.\u001b[39;00m\n\u001b[1;32m----> 2\u001b[0m \u001b[38;5;28;01mfrom\u001b[39;00m \u001b[38;5;21;01m.\u001b[39;00m\u001b[38;5;21;01marchitectures\u001b[39;00m \u001b[38;5;28;01mimport\u001b[39;00m \u001b[38;5;241m*\u001b[39m  \u001b[38;5;66;03m# noqa: F401, F403\u001b[39;00m\n\u001b[0;32m      3\u001b[0m \u001b[38;5;28;01mfrom\u001b[39;00m \u001b[38;5;21;01m.\u001b[39;00m\u001b[38;5;21;01mbuilder\u001b[39;00m \u001b[38;5;28;01mimport\u001b[39;00m MODELS, MODULES, build_model, build_module\n\u001b[0;32m      4\u001b[0m \u001b[38;5;28;01mfrom\u001b[39;00m \u001b[38;5;21;01m.\u001b[39;00m\u001b[38;5;21;01mcommon\u001b[39;00m \u001b[38;5;28;01mimport\u001b[39;00m \u001b[38;5;241m*\u001b[39m  \u001b[38;5;66;03m# noqa: F401, F403\u001b[39;00m\n",
      "File \u001b[1;32mG:\\mmgeneration\\mmgen\\models\\architectures\\__init__.py:20\u001b[0m\n\u001b[0;32m     18\u001b[0m \u001b[38;5;28;01mfrom\u001b[39;00m \u001b[38;5;21;01m.\u001b[39;00m\u001b[38;5;21;01msingan\u001b[39;00m \u001b[38;5;28;01mimport\u001b[39;00m SinGANMultiScaleDiscriminator, SinGANMultiScaleGenerator\n\u001b[0;32m     19\u001b[0m \u001b[38;5;28;01mfrom\u001b[39;00m \u001b[38;5;21;01m.\u001b[39;00m\u001b[38;5;21;01msngan_proj\u001b[39;00m \u001b[38;5;28;01mimport\u001b[39;00m ProjDiscriminator, SNGANGenerator\n\u001b[1;32m---> 20\u001b[0m \u001b[38;5;28;01mfrom\u001b[39;00m \u001b[38;5;21;01m.\u001b[39;00m\u001b[38;5;21;01mstylegan\u001b[39;00m \u001b[38;5;28;01mimport\u001b[39;00m (MSStyleGAN2Discriminator, MSStyleGANv2Generator,\n\u001b[0;32m     21\u001b[0m                        StyleGAN1Discriminator, StyleGAN2Discriminator,\n\u001b[0;32m     22\u001b[0m                        StyleGANv1Generator, StyleGANv2Generator,\n\u001b[0;32m     23\u001b[0m                        StyleGANv3Generator)\n\u001b[0;32m     24\u001b[0m \u001b[38;5;28;01mfrom\u001b[39;00m \u001b[38;5;21;01m.\u001b[39;00m\u001b[38;5;21;01mwgan_gp\u001b[39;00m \u001b[38;5;28;01mimport\u001b[39;00m WGANGPDiscriminator, WGANGPGenerator\n\u001b[0;32m     26\u001b[0m __all__ \u001b[38;5;241m=\u001b[39m [\n\u001b[0;32m     27\u001b[0m     \u001b[38;5;124m'\u001b[39m\u001b[38;5;124mDCGANGenerator\u001b[39m\u001b[38;5;124m'\u001b[39m, \u001b[38;5;124m'\u001b[39m\u001b[38;5;124mDCGANDiscriminator\u001b[39m\u001b[38;5;124m'\u001b[39m, \u001b[38;5;124m'\u001b[39m\u001b[38;5;124mEqualizedLR\u001b[39m\u001b[38;5;124m'\u001b[39m,\n\u001b[0;32m     28\u001b[0m     \u001b[38;5;124m'\u001b[39m\u001b[38;5;124mEqualizedLRConvModule\u001b[39m\u001b[38;5;124m'\u001b[39m, \u001b[38;5;124m'\u001b[39m\u001b[38;5;124mequalized_lr\u001b[39m\u001b[38;5;124m'\u001b[39m, \u001b[38;5;124m'\u001b[39m\u001b[38;5;124mEqualizedLRLinearModule\u001b[39m\u001b[38;5;124m'\u001b[39m,\n\u001b[1;32m   (...)\u001b[0m\n\u001b[0;32m     41\u001b[0m     \u001b[38;5;124m'\u001b[39m\u001b[38;5;124mStyleGANv3Generator\u001b[39m\u001b[38;5;124m'\u001b[39m, \u001b[38;5;124m'\u001b[39m\u001b[38;5;124mIDLossModel\u001b[39m\u001b[38;5;124m'\u001b[39m\n\u001b[0;32m     42\u001b[0m ]\n",
      "File \u001b[1;32mG:\\mmgeneration\\mmgen\\models\\architectures\\stylegan\\__init__.py:2\u001b[0m\n\u001b[0;32m      1\u001b[0m \u001b[38;5;66;03m# Copyright (c) OpenMMLab. All rights reserved.\u001b[39;00m\n\u001b[1;32m----> 2\u001b[0m \u001b[38;5;28;01mfrom\u001b[39;00m \u001b[38;5;21;01m.\u001b[39;00m\u001b[38;5;21;01mgenerator_discriminator_v1\u001b[39;00m \u001b[38;5;28;01mimport\u001b[39;00m (StyleGAN1Discriminator,\n\u001b[0;32m      3\u001b[0m                                          StyleGANv1Generator)\n\u001b[0;32m      4\u001b[0m \u001b[38;5;28;01mfrom\u001b[39;00m \u001b[38;5;21;01m.\u001b[39;00m\u001b[38;5;21;01mgenerator_discriminator_v2\u001b[39;00m \u001b[38;5;28;01mimport\u001b[39;00m (StyleGAN2Discriminator,\n\u001b[0;32m      5\u001b[0m                                          StyleGANv2Generator)\n\u001b[0;32m      6\u001b[0m \u001b[38;5;28;01mfrom\u001b[39;00m \u001b[38;5;21;01m.\u001b[39;00m\u001b[38;5;21;01mgenerator_discriminator_v3\u001b[39;00m \u001b[38;5;28;01mimport\u001b[39;00m StyleGANv3Generator\n",
      "File \u001b[1;32mG:\\mmgeneration\\mmgen\\models\\architectures\\stylegan\\generator_discriminator_v1.py:14\u001b[0m\n\u001b[0;32m     11\u001b[0m \u001b[38;5;28;01mfrom\u001b[39;00m \u001b[38;5;21;01mmmgen\u001b[39;00m\u001b[38;5;21;01m.\u001b[39;00m\u001b[38;5;21;01mmodels\u001b[39;00m\u001b[38;5;21;01m.\u001b[39;00m\u001b[38;5;21;01marchitectures\u001b[39;00m\u001b[38;5;21;01m.\u001b[39;00m\u001b[38;5;21;01mcommon\u001b[39;00m \u001b[38;5;28;01mimport\u001b[39;00m get_module_device\n\u001b[0;32m     12\u001b[0m \u001b[38;5;28;01mfrom\u001b[39;00m \u001b[38;5;21;01mmmgen\u001b[39;00m\u001b[38;5;21;01m.\u001b[39;00m\u001b[38;5;21;01mmodels\u001b[39;00m\u001b[38;5;21;01m.\u001b[39;00m\u001b[38;5;21;01marchitectures\u001b[39;00m\u001b[38;5;21;01m.\u001b[39;00m\u001b[38;5;21;01mpggan\u001b[39;00m \u001b[38;5;28;01mimport\u001b[39;00m (EqualizedLRConvDownModule,\n\u001b[0;32m     13\u001b[0m                                               EqualizedLRConvModule)\n\u001b[1;32m---> 14\u001b[0m \u001b[38;5;28;01mfrom\u001b[39;00m \u001b[38;5;21;01mmmgen\u001b[39;00m\u001b[38;5;21;01m.\u001b[39;00m\u001b[38;5;21;01mmodels\u001b[39;00m\u001b[38;5;21;01m.\u001b[39;00m\u001b[38;5;21;01marchitectures\u001b[39;00m\u001b[38;5;21;01m.\u001b[39;00m\u001b[38;5;21;01mstylegan\u001b[39;00m\u001b[38;5;21;01m.\u001b[39;00m\u001b[38;5;21;01mmodules\u001b[39;00m \u001b[38;5;28;01mimport\u001b[39;00m Blur\n\u001b[0;32m     15\u001b[0m \u001b[38;5;28;01mfrom\u001b[39;00m \u001b[38;5;21;01mmmgen\u001b[39;00m\u001b[38;5;21;01m.\u001b[39;00m\u001b[38;5;21;01mmodels\u001b[39;00m\u001b[38;5;21;01m.\u001b[39;00m\u001b[38;5;21;01mbuilder\u001b[39;00m \u001b[38;5;28;01mimport\u001b[39;00m MODULES\n\u001b[0;32m     16\u001b[0m \u001b[38;5;28;01mfrom\u001b[39;00m \u001b[38;5;21;01m.\u001b[39;00m\u001b[38;5;21;01m.\u001b[39;00m \u001b[38;5;28;01mimport\u001b[39;00m MiniBatchStddevLayer\n",
      "File \u001b[1;32mG:\\mmgeneration\\mmgen\\models\\architectures\\stylegan\\modules\\__init__.py:2\u001b[0m\n\u001b[0;32m      1\u001b[0m \u001b[38;5;66;03m# Copyright (c) OpenMMLab. All rights reserved.\u001b[39;00m\n\u001b[1;32m----> 2\u001b[0m \u001b[38;5;28;01mfrom\u001b[39;00m \u001b[38;5;21;01m.\u001b[39;00m\u001b[38;5;21;01mstyleganv2_modules\u001b[39;00m \u001b[38;5;28;01mimport\u001b[39;00m (Blur, ConstantInput, ModulatedConv2d,\n\u001b[0;32m      3\u001b[0m                                  ModulatedStyleConv, ModulatedToRGB,\n\u001b[0;32m      4\u001b[0m                                  NoiseInjection)\n\u001b[0;32m      5\u001b[0m \u001b[38;5;28;01mfrom\u001b[39;00m \u001b[38;5;21;01m.\u001b[39;00m\u001b[38;5;21;01mstyleganv3_modules\u001b[39;00m \u001b[38;5;28;01mimport\u001b[39;00m (MappingNetwork, SynthesisInput,\n\u001b[0;32m      6\u001b[0m                                  SynthesisLayer, SynthesisNetwork)\n\u001b[0;32m      8\u001b[0m __all__ \u001b[38;5;241m=\u001b[39m [\n\u001b[0;32m      9\u001b[0m     \u001b[38;5;124m'\u001b[39m\u001b[38;5;124mBlur\u001b[39m\u001b[38;5;124m'\u001b[39m, \u001b[38;5;124m'\u001b[39m\u001b[38;5;124mModulatedStyleConv\u001b[39m\u001b[38;5;124m'\u001b[39m, \u001b[38;5;124m'\u001b[39m\u001b[38;5;124mModulatedToRGB\u001b[39m\u001b[38;5;124m'\u001b[39m, \u001b[38;5;124m'\u001b[39m\u001b[38;5;124mNoiseInjection\u001b[39m\u001b[38;5;124m'\u001b[39m,\n\u001b[0;32m     10\u001b[0m     \u001b[38;5;124m'\u001b[39m\u001b[38;5;124mConstantInput\u001b[39m\u001b[38;5;124m'\u001b[39m, \u001b[38;5;124m'\u001b[39m\u001b[38;5;124mMappingNetwork\u001b[39m\u001b[38;5;124m'\u001b[39m, \u001b[38;5;124m'\u001b[39m\u001b[38;5;124mSynthesisInput\u001b[39m\u001b[38;5;124m'\u001b[39m, \u001b[38;5;124m'\u001b[39m\u001b[38;5;124mSynthesisLayer\u001b[39m\u001b[38;5;124m'\u001b[39m,\n\u001b[0;32m     11\u001b[0m     \u001b[38;5;124m'\u001b[39m\u001b[38;5;124mSynthesisNetwork\u001b[39m\u001b[38;5;124m'\u001b[39m, \u001b[38;5;124m'\u001b[39m\u001b[38;5;124mModulatedConv2d\u001b[39m\u001b[38;5;124m'\u001b[39m\n\u001b[0;32m     12\u001b[0m ]\n",
      "File \u001b[1;32mG:\\mmgeneration\\mmgen\\models\\architectures\\stylegan\\modules\\styleganv2_modules.py:11\u001b[0m\n\u001b[0;32m      9\u001b[0m \u001b[38;5;28;01mimport\u001b[39;00m \u001b[38;5;21;01mtorch\u001b[39;00m\u001b[38;5;21;01m.\u001b[39;00m\u001b[38;5;21;01mnn\u001b[39;00m\u001b[38;5;21;01m.\u001b[39;00m\u001b[38;5;21;01mfunctional\u001b[39;00m \u001b[38;5;28;01mas\u001b[39;00m \u001b[38;5;21;01mF\u001b[39;00m\n\u001b[0;32m     10\u001b[0m \u001b[38;5;28;01mfrom\u001b[39;00m \u001b[38;5;21;01mmmcv\u001b[39;00m\u001b[38;5;21;01m.\u001b[39;00m\u001b[38;5;21;01mcnn\u001b[39;00m\u001b[38;5;21;01m.\u001b[39;00m\u001b[38;5;21;01mbricks\u001b[39;00m\u001b[38;5;21;01m.\u001b[39;00m\u001b[38;5;21;01mactivation\u001b[39;00m \u001b[38;5;28;01mimport\u001b[39;00m build_activation_layer\n\u001b[1;32m---> 11\u001b[0m \u001b[38;5;28;01mfrom\u001b[39;00m \u001b[38;5;21;01mmmcv\u001b[39;00m\u001b[38;5;21;01m.\u001b[39;00m\u001b[38;5;21;01mops\u001b[39;00m\u001b[38;5;21;01m.\u001b[39;00m\u001b[38;5;21;01mfused_bias_leakyrelu\u001b[39;00m \u001b[38;5;28;01mimport\u001b[39;00m (FusedBiasLeakyReLU,\n\u001b[0;32m     12\u001b[0m                                            fused_bias_leakyrelu)\n\u001b[0;32m     13\u001b[0m \u001b[38;5;28;01mfrom\u001b[39;00m \u001b[38;5;21;01mmmcv\u001b[39;00m\u001b[38;5;21;01m.\u001b[39;00m\u001b[38;5;21;01mops\u001b[39;00m\u001b[38;5;21;01m.\u001b[39;00m\u001b[38;5;21;01mupfirdn2d\u001b[39;00m \u001b[38;5;28;01mimport\u001b[39;00m upfirdn2d\n\u001b[0;32m     14\u001b[0m \u001b[38;5;28;01mfrom\u001b[39;00m \u001b[38;5;21;01mmmcv\u001b[39;00m\u001b[38;5;21;01m.\u001b[39;00m\u001b[38;5;21;01mrunner\u001b[39;00m\u001b[38;5;21;01m.\u001b[39;00m\u001b[38;5;21;01mdist_utils\u001b[39;00m \u001b[38;5;28;01mimport\u001b[39;00m get_dist_info\n",
      "File \u001b[1;32m~\\Anaconda3\\envs\\mmgen\\lib\\site-packages\\mmcv\\ops\\__init__.py:3\u001b[0m\n\u001b[0;32m      1\u001b[0m \u001b[38;5;66;03m# Copyright (c) OpenMMLab. All rights reserved.\u001b[39;00m\n\u001b[0;32m      2\u001b[0m \u001b[38;5;28;01mfrom\u001b[39;00m \u001b[38;5;21;01mmmcv\u001b[39;00m\u001b[38;5;21;01m.\u001b[39;00m\u001b[38;5;21;01mutils\u001b[39;00m \u001b[38;5;28;01mimport\u001b[39;00m IS_MLU_AVAILABLE\n\u001b[1;32m----> 3\u001b[0m \u001b[38;5;28;01mfrom\u001b[39;00m \u001b[38;5;21;01m.\u001b[39;00m\u001b[38;5;21;01mactive_rotated_filter\u001b[39;00m \u001b[38;5;28;01mimport\u001b[39;00m active_rotated_filter\n\u001b[0;32m      4\u001b[0m \u001b[38;5;28;01mfrom\u001b[39;00m \u001b[38;5;21;01m.\u001b[39;00m\u001b[38;5;21;01massign_score_withk\u001b[39;00m \u001b[38;5;28;01mimport\u001b[39;00m assign_score_withk\n\u001b[0;32m      5\u001b[0m \u001b[38;5;28;01mfrom\u001b[39;00m \u001b[38;5;21;01m.\u001b[39;00m\u001b[38;5;21;01mball_query\u001b[39;00m \u001b[38;5;28;01mimport\u001b[39;00m ball_query\n",
      "File \u001b[1;32m~\\Anaconda3\\envs\\mmgen\\lib\\site-packages\\mmcv\\ops\\active_rotated_filter.py:10\u001b[0m\n\u001b[0;32m      6\u001b[0m \u001b[38;5;28;01mfrom\u001b[39;00m \u001b[38;5;21;01mtorch\u001b[39;00m\u001b[38;5;21;01m.\u001b[39;00m\u001b[38;5;21;01mautograd\u001b[39;00m\u001b[38;5;21;01m.\u001b[39;00m\u001b[38;5;21;01mfunction\u001b[39;00m \u001b[38;5;28;01mimport\u001b[39;00m once_differentiable\n\u001b[0;32m      8\u001b[0m \u001b[38;5;28;01mfrom\u001b[39;00m \u001b[38;5;21;01m.\u001b[39;00m\u001b[38;5;21;01m.\u001b[39;00m\u001b[38;5;21;01mutils\u001b[39;00m \u001b[38;5;28;01mimport\u001b[39;00m ext_loader\n\u001b[1;32m---> 10\u001b[0m ext_module \u001b[38;5;241m=\u001b[39m \u001b[43mext_loader\u001b[49m\u001b[38;5;241;43m.\u001b[39;49m\u001b[43mload_ext\u001b[49m\u001b[43m(\u001b[49m\n\u001b[0;32m     11\u001b[0m \u001b[43m    \u001b[49m\u001b[38;5;124;43m'\u001b[39;49m\u001b[38;5;124;43m_ext\u001b[39;49m\u001b[38;5;124;43m'\u001b[39;49m\u001b[43m,\u001b[49m\n\u001b[0;32m     12\u001b[0m \u001b[43m    \u001b[49m\u001b[43m[\u001b[49m\u001b[38;5;124;43m'\u001b[39;49m\u001b[38;5;124;43mactive_rotated_filter_forward\u001b[39;49m\u001b[38;5;124;43m'\u001b[39;49m\u001b[43m,\u001b[49m\u001b[43m \u001b[49m\u001b[38;5;124;43m'\u001b[39;49m\u001b[38;5;124;43mactive_rotated_filter_backward\u001b[39;49m\u001b[38;5;124;43m'\u001b[39;49m\u001b[43m]\u001b[49m\u001b[43m)\u001b[49m\n\u001b[0;32m     15\u001b[0m \u001b[38;5;28;01mclass\u001b[39;00m \u001b[38;5;21;01mActiveRotatedFilterFunction\u001b[39;00m(Function):\n\u001b[0;32m     16\u001b[0m \u001b[38;5;250m    \u001b[39m\u001b[38;5;124;03m\"\"\"Encoding the orientation information and generating orientation-\u001b[39;00m\n\u001b[0;32m     17\u001b[0m \u001b[38;5;124;03m    sensitive features.\u001b[39;00m\n\u001b[0;32m     18\u001b[0m \n\u001b[0;32m     19\u001b[0m \u001b[38;5;124;03m    The details are described in the paper `Align Deep Features for Oriented\u001b[39;00m\n\u001b[0;32m     20\u001b[0m \u001b[38;5;124;03m    Object Detection  <https://arxiv.org/abs/2008.09397>_`.\u001b[39;00m\n\u001b[0;32m     21\u001b[0m \u001b[38;5;124;03m    \"\"\"\u001b[39;00m\n",
      "File \u001b[1;32m~\\Anaconda3\\envs\\mmgen\\lib\\site-packages\\mmcv\\utils\\ext_loader.py:13\u001b[0m, in \u001b[0;36mload_ext\u001b[1;34m(name, funcs)\u001b[0m\n\u001b[0;32m     12\u001b[0m \u001b[38;5;28;01mdef\u001b[39;00m \u001b[38;5;21mload_ext\u001b[39m(name, funcs):\n\u001b[1;32m---> 13\u001b[0m     ext \u001b[38;5;241m=\u001b[39m \u001b[43mimportlib\u001b[49m\u001b[38;5;241;43m.\u001b[39;49m\u001b[43mimport_module\u001b[49m\u001b[43m(\u001b[49m\u001b[38;5;124;43m'\u001b[39;49m\u001b[38;5;124;43mmmcv.\u001b[39;49m\u001b[38;5;124;43m'\u001b[39;49m\u001b[43m \u001b[49m\u001b[38;5;241;43m+\u001b[39;49m\u001b[43m \u001b[49m\u001b[43mname\u001b[49m\u001b[43m)\u001b[49m\n\u001b[0;32m     14\u001b[0m     \u001b[38;5;28;01mfor\u001b[39;00m fun \u001b[38;5;129;01min\u001b[39;00m funcs:\n\u001b[0;32m     15\u001b[0m         \u001b[38;5;28;01massert\u001b[39;00m \u001b[38;5;28mhasattr\u001b[39m(ext, fun), \u001b[38;5;124mf\u001b[39m\u001b[38;5;124m'\u001b[39m\u001b[38;5;132;01m{\u001b[39;00mfun\u001b[38;5;132;01m}\u001b[39;00m\u001b[38;5;124m miss in module \u001b[39m\u001b[38;5;132;01m{\u001b[39;00mname\u001b[38;5;132;01m}\u001b[39;00m\u001b[38;5;124m'\u001b[39m\n",
      "File \u001b[1;32m~\\Anaconda3\\envs\\mmgen\\lib\\importlib\\__init__.py:127\u001b[0m, in \u001b[0;36mimport_module\u001b[1;34m(name, package)\u001b[0m\n\u001b[0;32m    125\u001b[0m             \u001b[38;5;28;01mbreak\u001b[39;00m\n\u001b[0;32m    126\u001b[0m         level \u001b[38;5;241m+\u001b[39m\u001b[38;5;241m=\u001b[39m \u001b[38;5;241m1\u001b[39m\n\u001b[1;32m--> 127\u001b[0m \u001b[38;5;28;01mreturn\u001b[39;00m \u001b[43m_bootstrap\u001b[49m\u001b[38;5;241;43m.\u001b[39;49m\u001b[43m_gcd_import\u001b[49m\u001b[43m(\u001b[49m\u001b[43mname\u001b[49m\u001b[43m[\u001b[49m\u001b[43mlevel\u001b[49m\u001b[43m:\u001b[49m\u001b[43m]\u001b[49m\u001b[43m,\u001b[49m\u001b[43m \u001b[49m\u001b[43mpackage\u001b[49m\u001b[43m,\u001b[49m\u001b[43m \u001b[49m\u001b[43mlevel\u001b[49m\u001b[43m)\u001b[49m\n",
      "\u001b[1;31mImportError\u001b[0m: DLL load failed while importing _ext: The specified procedure could not be found."
     ]
    }
   ],
   "source": [
    "import mmcv\n",
    "from mmgen.apis import init_model, sample_unconditional_model\n",
    "\n",
    "# Specify the path to model config and checkpoint file\n",
    "# config_file = 'configs/styleganv2/stylegan2_c2_lsun-church_256_b4x8_800k.py'\n",
    "config_file = 'configs/styleganv2/stylegan2_c2_places365_256_b4x8_800k_ali.py'\n",
    "# you can download this checkpoint in advance and use a local file path.\n",
    "checkpoint_file = 'stylegan2-church-config-f-official_20210327_172657-1d42b7d1.pth'\n",
    "\n",
    "device = 'cuda:0' #'cpu' #'cuda:0'\n",
    "model = init_model(config_file, checkpoint_file, device=device)"
   ]
  },
  {
   "cell_type": "code",
   "execution_count": 5,
   "id": "4a07a7b9",
   "metadata": {},
   "outputs": [],
   "source": [
    "from mmgen.apis import set_random_seed\n",
    "\n",
    "\n",
    "from mmcv import Config\n",
    "cfg = Config.fromfile(config_file)\n"
   ]
  },
  {
   "cell_type": "code",
   "execution_count": 6,
   "id": "85175202",
   "metadata": {},
   "outputs": [],
   "source": [
    "img_size = 256\n",
    "# cfg.img_size = img_size\n",
    "# cfg.train_pipeline[1].scale=(img_size,img_size)\n",
    "# cfg.val_pipeline[1].scale=(img_size,img_size)\n",
    "cfg.model.generator.out_size = img_size\n",
    "cfg.model.discriminator.in_size = img_size\n",
    "\n",
    "cfg.data.samples_per_gpu=1 #1\n",
    "cfg.data.workers_per_gpu=1 #4\n",
    "\n",
    "# Set seed thus the results are more reproducible\n",
    "cfg.seed = 0\n",
    "set_random_seed(0, deterministic=False)\n",
    "cfg.gpu_ids = range(1)\n",
    "\n",
    "cfg.use_ddp_wrapper = True\n",
    "cfg.find_unused_parameters = True  # True for dynamic model, False for static model\n",
    "cfg.runner = dict(\n",
    "    type='DynamicIterBasedRunner',\n",
    "    is_dynamic_ddp=False,  # Note that this flag should be False.\n",
    "    pass_training_status=True)\n",
    "\n",
    "\n",
    "cfg.log_config.interval=1\n",
    "# cfg.optimizer_config = dict(grad_clip=None)\n",
    "cfg.workflow = [('train', 1)]\n",
    "\n",
    "cfg.load_from = \"stylegan2-church-config-f-official_20210327_172657-1d42b7d1.pth\"\n",
    "cfg.work_dir = './test_run'"
   ]
  },
  {
   "cell_type": "code",
   "execution_count": 7,
   "id": "88f56495",
   "metadata": {},
   "outputs": [
    {
     "name": "stdout",
     "output_type": "stream",
     "text": [
      "Config:\n",
      "dataset_type = 'UnconditionalImageDataset'\n",
      "img_size = 256\n",
      "train_pipeline = [\n",
      "    dict(type='LoadImageFromFile', key='real_img', io_backend='disk'),\n",
      "    dict(type='Resize', keys=['real_img'], scale=(256, 256)),\n",
      "    dict(\n",
      "        type='Normalize',\n",
      "        keys=['real_img'],\n",
      "        mean=[127.5, 127.5, 127.5],\n",
      "        std=[127.5, 127.5, 127.5],\n",
      "        to_rgb=False),\n",
      "    dict(type='ImageToTensor', keys=['real_img']),\n",
      "    dict(type='Collect', keys=['real_img'], meta_keys=['real_img_path'])\n",
      "]\n",
      "val_pipeline = [\n",
      "    dict(type='LoadImageFromFile', key='real_img', io_backend='disk'),\n",
      "    dict(type='Resize', keys=['real_img'], scale=(256, 256)),\n",
      "    dict(\n",
      "        type='Normalize',\n",
      "        keys=['real_img'],\n",
      "        mean=[127.5, 127.5, 127.5],\n",
      "        std=[127.5, 127.5, 127.5],\n",
      "        to_rgb=True),\n",
      "    dict(type='ImageToTensor', keys=['real_img']),\n",
      "    dict(type='Collect', keys=['real_img'], meta_keys=['real_img_path'])\n",
      "]\n",
      "data = dict(\n",
      "    samples_per_gpu=1,\n",
      "    workers_per_gpu=1,\n",
      "    train=dict(\n",
      "        type='RepeatDataset',\n",
      "        times=100,\n",
      "        dataset=dict(\n",
      "            type='UnconditionalImageDataset',\n",
      "            imgs_root='G:/Places365_small/val_256/train_samples',\n",
      "            pipeline=[\n",
      "                dict(\n",
      "                    type='LoadImageFromFile',\n",
      "                    key='real_img',\n",
      "                    io_backend='disk'),\n",
      "                dict(type='Resize', keys=['real_img'], scale=(256, 256)),\n",
      "                dict(\n",
      "                    type='Normalize',\n",
      "                    keys=['real_img'],\n",
      "                    mean=[127.5, 127.5, 127.5],\n",
      "                    std=[127.5, 127.5, 127.5],\n",
      "                    to_rgb=False),\n",
      "                dict(type='ImageToTensor', keys=['real_img']),\n",
      "                dict(\n",
      "                    type='Collect',\n",
      "                    keys=['real_img'],\n",
      "                    meta_keys=['real_img_path'])\n",
      "            ])),\n",
      "    val=dict(\n",
      "        type='UnconditionalImageDataset',\n",
      "        imgs_root=None,\n",
      "        pipeline=[\n",
      "            dict(type='LoadImageFromFile', key='real_img', io_backend='disk'),\n",
      "            dict(type='Resize', keys=['real_img'], scale=(256, 256)),\n",
      "            dict(\n",
      "                type='Normalize',\n",
      "                keys=['real_img'],\n",
      "                mean=[127.5, 127.5, 127.5],\n",
      "                std=[127.5, 127.5, 127.5],\n",
      "                to_rgb=True),\n",
      "            dict(type='ImageToTensor', keys=['real_img']),\n",
      "            dict(\n",
      "                type='Collect', keys=['real_img'], meta_keys=['real_img_path'])\n",
      "        ]))\n",
      "d_reg_interval = 16\n",
      "g_reg_interval = 4\n",
      "g_reg_ratio = 0.8\n",
      "d_reg_ratio = 0.9411764705882353\n",
      "model = dict(\n",
      "    type='StaticUnconditionalGAN',\n",
      "    generator=dict(\n",
      "        type='StyleGANv2Generator', out_size=256, style_channels=512),\n",
      "    discriminator=dict(type='StyleGAN2Discriminator', in_size=256),\n",
      "    gan_loss=dict(type='GANLoss', gan_type='wgan-logistic-ns'),\n",
      "    disc_auxiliary_loss=dict(\n",
      "        type='R1GradientPenalty',\n",
      "        loss_weight=80.0,\n",
      "        interval=16,\n",
      "        norm_mode='HWC',\n",
      "        data_info=dict(real_data='real_imgs', discriminator='disc')),\n",
      "    gen_auxiliary_loss=dict(\n",
      "        type='GeneratorPathRegularizer',\n",
      "        loss_weight=8.0,\n",
      "        pl_batch_shrink=2,\n",
      "        interval=4,\n",
      "        data_info=dict(generator='gen', num_batches='batch_size')))\n",
      "train_cfg = dict(use_ema=True)\n",
      "test_cfg = None\n",
      "optimizer = dict(\n",
      "    generator=dict(type='Adam', lr=0.0016, betas=(0, 0.9919919678228657)),\n",
      "    discriminator=dict(\n",
      "        type='Adam', lr=0.0018823529411764706, betas=(0, 0.9905854573074332)))\n",
      "checkpoint_config = dict(interval=10, by_epoch=False, max_keep_ckpts=2)\n",
      "log_config = dict(interval=1, hooks=[dict(type='TextLoggerHook')])\n",
      "custom_hooks = [\n",
      "    dict(\n",
      "        type='VisualizeUnconditionalSamples',\n",
      "        output_dir='training_samples',\n",
      "        interval=10),\n",
      "    dict(\n",
      "        type='ExponentialMovingAverageHook',\n",
      "        module_keys=('generator_ema', ),\n",
      "        interval=1,\n",
      "        interp_cfg=dict(momentum=0.9977843871238888),\n",
      "        priority='VERY_HIGH')\n",
      "]\n",
      "runner = dict(\n",
      "    type='DynamicIterBasedRunner',\n",
      "    is_dynamic_ddp=False,\n",
      "    pass_training_status=True)\n",
      "dist_params = dict(backend='nccl')\n",
      "log_level = 'INFO'\n",
      "load_from = 'stylegan2-church-config-f-official_20210327_172657-1d42b7d1.pth'\n",
      "resume_from = None\n",
      "workflow = [('train', 1)]\n",
      "find_unused_parameters = True\n",
      "cudnn_benchmark = True\n",
      "opencv_num_threads = 0\n",
      "mp_start_method = 'fork'\n",
      "ema_half_life = 10.0\n",
      "lr_config = None\n",
      "total_iters = 100\n",
      "metrics = dict(\n",
      "    fid50k=dict(type='FID', num_images=500, inception_pkl=None, bgr2rgb=True),\n",
      "    pr50k3=dict(type='PR', num_images=500, k=3),\n",
      "    ppl_wend=dict(type='PPL', space='W', sampling='end', num_images=500))\n",
      "seed = 0\n",
      "gpu_ids = range(0, 1)\n",
      "use_ddp_wrapper = True\n",
      "work_dir = './test_run'\n",
      "\n"
     ]
    }
   ],
   "source": [
    "print(f'Config:\\n{cfg.pretty_text}')"
   ]
  },
  {
   "cell_type": "code",
   "execution_count": 8,
   "id": "24b7606c",
   "metadata": {},
   "outputs": [
    {
     "name": "stderr",
     "output_type": "stream",
     "text": [
      "2023-07-18 20:23:43,556 - mmgen - INFO - dataset_name: <class 'mmgen.datasets.unconditional_image_dataset.UnconditionalImageDataset'>, total 21900 images in imgs_root: G:/Places365_small/val_256/train_samples\n"
     ]
    }
   ],
   "source": [
    "from mmgen.datasets import build_dataset\n",
    "from mmgen.models import build_model\n",
    "from mmgen.apis import train_model\n",
    "import os\n",
    "import mmcv\n",
    "\n",
    "# Build dataset\n",
    "datasets = [build_dataset(cfg.data.train)]\n",
    "\n",
    "# Build model\n",
    "# model = build_model(cfg.model)\n",
    "\n",
    "# Create work_dir\n",
    "mmcv.mkdir_or_exist(os.path.abspath(cfg.work_dir))"
   ]
  },
  {
   "cell_type": "code",
   "execution_count": null,
   "id": "bf431e6b",
   "metadata": {},
   "outputs": [],
   "source": []
  },
  {
   "cell_type": "code",
   "execution_count": 9,
   "id": "577e6240",
   "metadata": {
    "scrolled": true
   },
   "outputs": [
    {
     "name": "stderr",
     "output_type": "stream",
     "text": [
      "2023-07-18 20:23:44,493 - mmgen - INFO - load checkpoint from local path: stylegan2-church-config-f-official_20210327_172657-1d42b7d1.pth\n",
      "2023-07-18 20:23:44,742 - mmgen - WARNING - The model and loaded state dict do not match exactly\n",
      "\n",
      "unexpected key in source state_dict: generator_ema.injected_noise_0, generator_ema.injected_noise_1, generator_ema.injected_noise_2, generator_ema.injected_noise_3, generator_ema.injected_noise_4, generator_ema.injected_noise_5, generator_ema.injected_noise_6, generator_ema.injected_noise_7, generator_ema.injected_noise_8, generator_ema.injected_noise_9, generator_ema.injected_noise_10, generator_ema.injected_noise_11, generator_ema.injected_noise_12, generator_ema.style_mapping.1.bias, generator_ema.style_mapping.1.linear.weight_orig, generator_ema.style_mapping.2.bias, generator_ema.style_mapping.2.linear.weight_orig, generator_ema.style_mapping.3.bias, generator_ema.style_mapping.3.linear.weight_orig, generator_ema.style_mapping.4.bias, generator_ema.style_mapping.4.linear.weight_orig, generator_ema.style_mapping.5.bias, generator_ema.style_mapping.5.linear.weight_orig, generator_ema.style_mapping.6.bias, generator_ema.style_mapping.6.linear.weight_orig, generator_ema.style_mapping.7.bias, generator_ema.style_mapping.7.linear.weight_orig, generator_ema.style_mapping.8.bias, generator_ema.style_mapping.8.linear.weight_orig, generator_ema.constant_input.input, generator_ema.conv1.conv.weight_orig, generator_ema.conv1.conv.style_modulation.bias, generator_ema.conv1.conv.style_modulation.linear.weight_orig, generator_ema.conv1.noise_injector.weight, generator_ema.conv1.activate.bias, generator_ema.to_rgb1.bias, generator_ema.to_rgb1.conv.weight_orig, generator_ema.to_rgb1.conv.style_modulation.bias, generator_ema.to_rgb1.conv.style_modulation.linear.weight_orig, generator_ema.convs.0.conv.weight_orig, generator_ema.convs.0.conv.style_modulation.bias, generator_ema.convs.0.conv.style_modulation.linear.weight_orig, generator_ema.convs.0.conv.blur.kernel, generator_ema.convs.0.noise_injector.weight, generator_ema.convs.0.activate.bias, generator_ema.convs.1.conv.weight_orig, generator_ema.convs.1.conv.style_modulation.bias, generator_ema.convs.1.conv.style_modulation.linear.weight_orig, generator_ema.convs.1.noise_injector.weight, generator_ema.convs.1.activate.bias, generator_ema.convs.2.conv.weight_orig, generator_ema.convs.2.conv.style_modulation.bias, generator_ema.convs.2.conv.style_modulation.linear.weight_orig, generator_ema.convs.2.conv.blur.kernel, generator_ema.convs.2.noise_injector.weight, generator_ema.convs.2.activate.bias, generator_ema.convs.3.conv.weight_orig, generator_ema.convs.3.conv.style_modulation.bias, generator_ema.convs.3.conv.style_modulation.linear.weight_orig, generator_ema.convs.3.noise_injector.weight, generator_ema.convs.3.activate.bias, generator_ema.convs.4.conv.weight_orig, generator_ema.convs.4.conv.style_modulation.bias, generator_ema.convs.4.conv.style_modulation.linear.weight_orig, generator_ema.convs.4.conv.blur.kernel, generator_ema.convs.4.noise_injector.weight, generator_ema.convs.4.activate.bias, generator_ema.convs.5.conv.weight_orig, generator_ema.convs.5.conv.style_modulation.bias, generator_ema.convs.5.conv.style_modulation.linear.weight_orig, generator_ema.convs.5.noise_injector.weight, generator_ema.convs.5.activate.bias, generator_ema.convs.6.conv.weight_orig, generator_ema.convs.6.conv.style_modulation.bias, generator_ema.convs.6.conv.style_modulation.linear.weight_orig, generator_ema.convs.6.conv.blur.kernel, generator_ema.convs.6.noise_injector.weight, generator_ema.convs.6.activate.bias, generator_ema.convs.7.conv.weight_orig, generator_ema.convs.7.conv.style_modulation.bias, generator_ema.convs.7.conv.style_modulation.linear.weight_orig, generator_ema.convs.7.noise_injector.weight, generator_ema.convs.7.activate.bias, generator_ema.convs.8.conv.weight_orig, generator_ema.convs.8.conv.style_modulation.bias, generator_ema.convs.8.conv.style_modulation.linear.weight_orig, generator_ema.convs.8.conv.blur.kernel, generator_ema.convs.8.noise_injector.weight, generator_ema.convs.8.activate.bias, generator_ema.convs.9.conv.weight_orig, generator_ema.convs.9.conv.style_modulation.bias, generator_ema.convs.9.conv.style_modulation.linear.weight_orig, generator_ema.convs.9.noise_injector.weight, generator_ema.convs.9.activate.bias, generator_ema.convs.10.conv.weight_orig, generator_ema.convs.10.conv.style_modulation.bias, generator_ema.convs.10.conv.style_modulation.linear.weight_orig, generator_ema.convs.10.conv.blur.kernel, generator_ema.convs.10.noise_injector.weight, generator_ema.convs.10.activate.bias, generator_ema.convs.11.conv.weight_orig, generator_ema.convs.11.conv.style_modulation.bias, generator_ema.convs.11.conv.style_modulation.linear.weight_orig, generator_ema.convs.11.noise_injector.weight, generator_ema.convs.11.activate.bias, generator_ema.to_rgbs.0.bias, generator_ema.to_rgbs.0.upsample.kernel, generator_ema.to_rgbs.0.conv.weight_orig, generator_ema.to_rgbs.0.conv.style_modulation.bias, generator_ema.to_rgbs.0.conv.style_modulation.linear.weight_orig, generator_ema.to_rgbs.1.bias, generator_ema.to_rgbs.1.upsample.kernel, generator_ema.to_rgbs.1.conv.weight_orig, generator_ema.to_rgbs.1.conv.style_modulation.bias, generator_ema.to_rgbs.1.conv.style_modulation.linear.weight_orig, generator_ema.to_rgbs.2.bias, generator_ema.to_rgbs.2.upsample.kernel, generator_ema.to_rgbs.2.conv.weight_orig, generator_ema.to_rgbs.2.conv.style_modulation.bias, generator_ema.to_rgbs.2.conv.style_modulation.linear.weight_orig, generator_ema.to_rgbs.3.bias, generator_ema.to_rgbs.3.upsample.kernel, generator_ema.to_rgbs.3.conv.weight_orig, generator_ema.to_rgbs.3.conv.style_modulation.bias, generator_ema.to_rgbs.3.conv.style_modulation.linear.weight_orig, generator_ema.to_rgbs.4.bias, generator_ema.to_rgbs.4.upsample.kernel, generator_ema.to_rgbs.4.conv.weight_orig, generator_ema.to_rgbs.4.conv.style_modulation.bias, generator_ema.to_rgbs.4.conv.style_modulation.linear.weight_orig, generator_ema.to_rgbs.5.bias, generator_ema.to_rgbs.5.upsample.kernel, generator_ema.to_rgbs.5.conv.weight_orig, generator_ema.to_rgbs.5.conv.style_modulation.bias, generator_ema.to_rgbs.5.conv.style_modulation.linear.weight_orig\n",
      "\n",
      "2023-07-18 20:23:44,774 - mmgen - INFO - Start running, host: Ali@ALI-LAPTOP, work_dir: G:\\mmgeneration\\test_run\n",
      "2023-07-18 20:23:44,775 - mmgen - INFO - workflow: [('train', 1)], max: 100 iters\n",
      "g:\\mmgeneration\\mmgen\\core\\hooks\\ema_hook.py:191: UserWarning: We do not suggest construct and initialize EMA model generator_ema in hook. You may explicitly define it by yourself.\n",
      "  warnings.warn(\n",
      "2023-07-18 20:23:46,295 - mmgen - INFO - Checkpoints will be saved to ./test_run\\ckpt\\test_run by HardDiskBackend.\n"
     ]
    },
    {
     "ename": "RuntimeError",
     "evalue": "No such operator aten::cudnn_convolution_backward_weight",
     "output_type": "error",
     "traceback": [
      "\u001b[1;31m---------------------------------------------------------------------------\u001b[0m",
      "\u001b[1;31mRuntimeError\u001b[0m                              Traceback (most recent call last)",
      "Cell \u001b[1;32mIn[9], line 1\u001b[0m\n\u001b[1;32m----> 1\u001b[0m train_model(model, datasets, cfg, distributed\u001b[39m=\u001b[39;49m\u001b[39mFalse\u001b[39;49;00m, validate\u001b[39m=\u001b[39;49m\u001b[39mTrue\u001b[39;49;00m)\n",
      "File \u001b[1;32mg:\\mmgeneration\\mmgen\\apis\\train.py:207\u001b[0m, in \u001b[0;36mtrain_model\u001b[1;34m(model, dataset, cfg, distributed, validate, timestamp, meta)\u001b[0m\n\u001b[0;32m    205\u001b[0m \u001b[39melif\u001b[39;00m cfg\u001b[39m.\u001b[39mload_from:\n\u001b[0;32m    206\u001b[0m     runner\u001b[39m.\u001b[39mload_checkpoint(cfg\u001b[39m.\u001b[39mload_from)\n\u001b[1;32m--> 207\u001b[0m runner\u001b[39m.\u001b[39;49mrun(data_loaders, cfg\u001b[39m.\u001b[39;49mworkflow, cfg\u001b[39m.\u001b[39;49mtotal_iters)\n",
      "File \u001b[1;32mg:\\mmgeneration\\mmgen\\core\\runners\\dynamic_iterbased_runner.py:285\u001b[0m, in \u001b[0;36mDynamicIterBasedRunner.run\u001b[1;34m(self, data_loaders, workflow, max_iters, **kwargs)\u001b[0m\n\u001b[0;32m    283\u001b[0m             \u001b[39mif\u001b[39;00m mode \u001b[39m==\u001b[39m \u001b[39m'\u001b[39m\u001b[39mtrain\u001b[39m\u001b[39m'\u001b[39m \u001b[39mand\u001b[39;00m \u001b[39mself\u001b[39m\u001b[39m.\u001b[39miter \u001b[39m>\u001b[39m\u001b[39m=\u001b[39m \u001b[39mself\u001b[39m\u001b[39m.\u001b[39m_max_iters:\n\u001b[0;32m    284\u001b[0m                 \u001b[39mbreak\u001b[39;00m\n\u001b[1;32m--> 285\u001b[0m             iter_runner(iter_loaders[i], \u001b[39m*\u001b[39m\u001b[39m*\u001b[39mkwargs)\n\u001b[0;32m    287\u001b[0m time\u001b[39m.\u001b[39msleep(\u001b[39m1\u001b[39m)  \u001b[39m# wait for some hooks like loggers to finish\u001b[39;00m\n\u001b[0;32m    288\u001b[0m \u001b[39mself\u001b[39m\u001b[39m.\u001b[39mcall_hook(\u001b[39m'\u001b[39m\u001b[39mafter_epoch\u001b[39m\u001b[39m'\u001b[39m)\n",
      "File \u001b[1;32mg:\\mmgeneration\\mmgen\\core\\runners\\dynamic_iterbased_runner.py:215\u001b[0m, in \u001b[0;36mDynamicIterBasedRunner.train\u001b[1;34m(self, data_loader, **kwargs)\u001b[0m\n\u001b[0;32m    212\u001b[0m \u001b[39mif\u001b[39;00m \u001b[39mself\u001b[39m\u001b[39m.\u001b[39muse_apex_amp:\n\u001b[0;32m    213\u001b[0m     kwargs\u001b[39m.\u001b[39mupdate(\u001b[39mdict\u001b[39m(use_apex_amp\u001b[39m=\u001b[39m\u001b[39mTrue\u001b[39;00m))\n\u001b[1;32m--> 215\u001b[0m outputs \u001b[39m=\u001b[39m \u001b[39mself\u001b[39m\u001b[39m.\u001b[39mmodel\u001b[39m.\u001b[39mtrain_step(data_batch, \u001b[39mself\u001b[39m\u001b[39m.\u001b[39moptimizer, \u001b[39m*\u001b[39m\u001b[39m*\u001b[39mkwargs)\n\u001b[0;32m    217\u001b[0m \u001b[39m# the loss scaler should be updated after ``train_step``\u001b[39;00m\n\u001b[0;32m    218\u001b[0m \u001b[39mif\u001b[39;00m \u001b[39mself\u001b[39m\u001b[39m.\u001b[39mwith_fp16_grad_scaler:\n",
      "File \u001b[1;32mc:\\Users\\Ali\\Anaconda3\\envs\\mmedit\\lib\\site-packages\\mmcv\\parallel\\data_parallel.py:77\u001b[0m, in \u001b[0;36mMMDataParallel.train_step\u001b[1;34m(self, *inputs, **kwargs)\u001b[0m\n\u001b[0;32m     71\u001b[0m         \u001b[39mraise\u001b[39;00m \u001b[39mRuntimeError\u001b[39;00m(\n\u001b[0;32m     72\u001b[0m             \u001b[39m'\u001b[39m\u001b[39mmodule must have its parameters and buffers \u001b[39m\u001b[39m'\u001b[39m\n\u001b[0;32m     73\u001b[0m             \u001b[39mf\u001b[39m\u001b[39m'\u001b[39m\u001b[39mon device \u001b[39m\u001b[39m{\u001b[39;00m\u001b[39mself\u001b[39m\u001b[39m.\u001b[39msrc_device_obj\u001b[39m}\u001b[39;00m\u001b[39m (device_ids[0]) but \u001b[39m\u001b[39m'\u001b[39m\n\u001b[0;32m     74\u001b[0m             \u001b[39mf\u001b[39m\u001b[39m'\u001b[39m\u001b[39mfound one of them on device: \u001b[39m\u001b[39m{\u001b[39;00mt\u001b[39m.\u001b[39mdevice\u001b[39m}\u001b[39;00m\u001b[39m'\u001b[39m)\n\u001b[0;32m     76\u001b[0m inputs, kwargs \u001b[39m=\u001b[39m \u001b[39mself\u001b[39m\u001b[39m.\u001b[39mscatter(inputs, kwargs, \u001b[39mself\u001b[39m\u001b[39m.\u001b[39mdevice_ids)\n\u001b[1;32m---> 77\u001b[0m \u001b[39mreturn\u001b[39;00m \u001b[39mself\u001b[39m\u001b[39m.\u001b[39mmodule\u001b[39m.\u001b[39mtrain_step(\u001b[39m*\u001b[39minputs[\u001b[39m0\u001b[39m], \u001b[39m*\u001b[39m\u001b[39m*\u001b[39mkwargs[\u001b[39m0\u001b[39m])\n",
      "File \u001b[1;32mg:\\mmgeneration\\mmgen\\models\\gans\\static_unconditional_gan.py:262\u001b[0m, in \u001b[0;36mStaticUnconditionalGAN.train_step\u001b[1;34m(self, data_batch, optimizer, ddp_reducer, loss_scaler, use_apex_amp, running_status)\u001b[0m\n\u001b[0;32m    251\u001b[0m disc_pred_fake_g \u001b[39m=\u001b[39m \u001b[39mself\u001b[39m\u001b[39m.\u001b[39mdiscriminator(fake_imgs)\n\u001b[0;32m    253\u001b[0m data_dict_ \u001b[39m=\u001b[39m \u001b[39mdict\u001b[39m(\n\u001b[0;32m    254\u001b[0m     gen\u001b[39m=\u001b[39m\u001b[39mself\u001b[39m\u001b[39m.\u001b[39mgenerator,\n\u001b[0;32m    255\u001b[0m     disc\u001b[39m=\u001b[39m\u001b[39mself\u001b[39m\u001b[39m.\u001b[39mdiscriminator,\n\u001b[1;32m   (...)\u001b[0m\n\u001b[0;32m    259\u001b[0m     batch_size\u001b[39m=\u001b[39mbatch_size,\n\u001b[0;32m    260\u001b[0m     loss_scaler\u001b[39m=\u001b[39mloss_scaler)\n\u001b[1;32m--> 262\u001b[0m loss_gen, log_vars_g \u001b[39m=\u001b[39m \u001b[39mself\u001b[39;49m\u001b[39m.\u001b[39;49m_get_gen_loss(data_dict_)\n\u001b[0;32m    264\u001b[0m \u001b[39m# prepare for backward in ddp. If you do not call this function before\u001b[39;00m\n\u001b[0;32m    265\u001b[0m \u001b[39m# back propagation, the ddp will not dynamically find the used params\u001b[39;00m\n\u001b[0;32m    266\u001b[0m \u001b[39m# in current computation.\u001b[39;00m\n\u001b[0;32m    267\u001b[0m \u001b[39mif\u001b[39;00m ddp_reducer \u001b[39mis\u001b[39;00m \u001b[39mnot\u001b[39;00m \u001b[39mNone\u001b[39;00m:\n",
      "File \u001b[1;32mg:\\mmgeneration\\mmgen\\models\\gans\\base_gan.py:85\u001b[0m, in \u001b[0;36mBaseGAN._get_gen_loss\u001b[1;34m(self, outputs_dict)\u001b[0m\n\u001b[0;32m     83\u001b[0m \u001b[39mif\u001b[39;00m \u001b[39mself\u001b[39m\u001b[39m.\u001b[39mwith_gen_auxiliary_loss:\n\u001b[0;32m     84\u001b[0m     \u001b[39mfor\u001b[39;00m loss_module \u001b[39min\u001b[39;00m \u001b[39mself\u001b[39m\u001b[39m.\u001b[39mgen_auxiliary_losses:\n\u001b[1;32m---> 85\u001b[0m         loss_ \u001b[39m=\u001b[39m loss_module(outputs_dict)\n\u001b[0;32m     86\u001b[0m         \u001b[39mif\u001b[39;00m loss_ \u001b[39mis\u001b[39;00m \u001b[39mNone\u001b[39;00m:\n\u001b[0;32m     87\u001b[0m             \u001b[39mcontinue\u001b[39;00m\n",
      "File \u001b[1;32mc:\\Users\\Ali\\Anaconda3\\envs\\mmedit\\lib\\site-packages\\torch\\nn\\modules\\module.py:1194\u001b[0m, in \u001b[0;36mModule._call_impl\u001b[1;34m(self, *input, **kwargs)\u001b[0m\n\u001b[0;32m   1190\u001b[0m \u001b[39m# If we don't have any hooks, we want to skip the rest of the logic in\u001b[39;00m\n\u001b[0;32m   1191\u001b[0m \u001b[39m# this function, and just call forward.\u001b[39;00m\n\u001b[0;32m   1192\u001b[0m \u001b[39mif\u001b[39;00m \u001b[39mnot\u001b[39;00m (\u001b[39mself\u001b[39m\u001b[39m.\u001b[39m_backward_hooks \u001b[39mor\u001b[39;00m \u001b[39mself\u001b[39m\u001b[39m.\u001b[39m_forward_hooks \u001b[39mor\u001b[39;00m \u001b[39mself\u001b[39m\u001b[39m.\u001b[39m_forward_pre_hooks \u001b[39mor\u001b[39;00m _global_backward_hooks\n\u001b[0;32m   1193\u001b[0m         \u001b[39mor\u001b[39;00m _global_forward_hooks \u001b[39mor\u001b[39;00m _global_forward_pre_hooks):\n\u001b[1;32m-> 1194\u001b[0m     \u001b[39mreturn\u001b[39;00m forward_call(\u001b[39m*\u001b[39m\u001b[39minput\u001b[39m, \u001b[39m*\u001b[39m\u001b[39m*\u001b[39mkwargs)\n\u001b[0;32m   1195\u001b[0m \u001b[39m# Do not call functions when jit is used\u001b[39;00m\n\u001b[0;32m   1196\u001b[0m full_backward_hooks, non_full_backward_hooks \u001b[39m=\u001b[39m [], []\n",
      "File \u001b[1;32mg:\\mmgeneration\\mmgen\\models\\losses\\gen_auxiliary_loss.py:264\u001b[0m, in \u001b[0;36mGeneratorPathRegularizer.forward\u001b[1;34m(self, *args, **kwargs)\u001b[0m\n\u001b[0;32m    254\u001b[0m     kwargs\u001b[39m.\u001b[39mupdate(loss_input_dict)\n\u001b[0;32m    255\u001b[0m     kwargs\u001b[39m.\u001b[39mupdate(\n\u001b[0;32m    256\u001b[0m         \u001b[39mdict\u001b[39m(\n\u001b[0;32m    257\u001b[0m             weight\u001b[39m=\u001b[39m\u001b[39mself\u001b[39m\u001b[39m.\u001b[39mloss_weight,\n\u001b[1;32m   (...)\u001b[0m\n\u001b[0;32m    262\u001b[0m             pl_batch_size\u001b[39m=\u001b[39m\u001b[39mself\u001b[39m\u001b[39m.\u001b[39mpl_batch_size,\n\u001b[0;32m    263\u001b[0m             sync_mean_buffer\u001b[39m=\u001b[39m\u001b[39mself\u001b[39m\u001b[39m.\u001b[39msync_mean_buffer))\n\u001b[1;32m--> 264\u001b[0m     path_penalty, \u001b[39mself\u001b[39m\u001b[39m.\u001b[39mmean_path_length, _ \u001b[39m=\u001b[39m gen_path_regularizer(\n\u001b[0;32m    265\u001b[0m         \u001b[39m*\u001b[39m\u001b[39m*\u001b[39mkwargs)\n\u001b[0;32m    267\u001b[0m     \u001b[39mreturn\u001b[39;00m path_penalty\n\u001b[0;32m    268\u001b[0m \u001b[39melse\u001b[39;00m:\n\u001b[0;32m    269\u001b[0m     \u001b[39m# if you have not define how to build computational graph, this\u001b[39;00m\n\u001b[0;32m    270\u001b[0m     \u001b[39m# module will just directly return the loss as usual.\u001b[39;00m\n",
      "File \u001b[1;32mg:\\mmgeneration\\mmgen\\models\\losses\\gen_auxiliary_loss.py:102\u001b[0m, in \u001b[0;36mgen_path_regularizer\u001b[1;34m(generator, num_batches, mean_path_length, pl_batch_shrink, decay, weight, pl_batch_size, sync_mean_buffer, loss_scaler, use_apex_amp)\u001b[0m\n\u001b[0;32m    100\u001b[0m     grad \u001b[39m=\u001b[39m grad \u001b[39m*\u001b[39m inv_scale\n\u001b[0;32m    101\u001b[0m \u001b[39melse\u001b[39;00m:\n\u001b[1;32m--> 102\u001b[0m     grad \u001b[39m=\u001b[39m autograd\u001b[39m.\u001b[39;49mgrad(\n\u001b[0;32m    103\u001b[0m         outputs\u001b[39m=\u001b[39;49m(fake_img \u001b[39m*\u001b[39;49m noise)\u001b[39m.\u001b[39;49msum(),\n\u001b[0;32m    104\u001b[0m         inputs\u001b[39m=\u001b[39;49mlatents,\n\u001b[0;32m    105\u001b[0m         grad_outputs\u001b[39m=\u001b[39;49mtorch\u001b[39m.\u001b[39;49mones(())\u001b[39m.\u001b[39;49mto(fake_img),\n\u001b[0;32m    106\u001b[0m         create_graph\u001b[39m=\u001b[39;49m\u001b[39mTrue\u001b[39;49;00m,\n\u001b[0;32m    107\u001b[0m         retain_graph\u001b[39m=\u001b[39;49m\u001b[39mTrue\u001b[39;49;00m,\n\u001b[0;32m    108\u001b[0m         only_inputs\u001b[39m=\u001b[39;49m\u001b[39mTrue\u001b[39;49;00m)[\u001b[39m0\u001b[39m]\n\u001b[0;32m    110\u001b[0m path_lengths \u001b[39m=\u001b[39m torch\u001b[39m.\u001b[39msqrt(grad\u001b[39m.\u001b[39mpow(\u001b[39m2\u001b[39m)\u001b[39m.\u001b[39msum(\u001b[39m2\u001b[39m)\u001b[39m.\u001b[39mmean(\u001b[39m1\u001b[39m))\n\u001b[0;32m    111\u001b[0m \u001b[39m# update mean path\u001b[39;00m\n",
      "File \u001b[1;32mc:\\Users\\Ali\\Anaconda3\\envs\\mmedit\\lib\\site-packages\\torch\\autograd\\__init__.py:300\u001b[0m, in \u001b[0;36mgrad\u001b[1;34m(outputs, inputs, grad_outputs, retain_graph, create_graph, only_inputs, allow_unused, is_grads_batched)\u001b[0m\n\u001b[0;32m    298\u001b[0m     \u001b[39mreturn\u001b[39;00m _vmap_internals\u001b[39m.\u001b[39m_vmap(vjp, \u001b[39m0\u001b[39m, \u001b[39m0\u001b[39m, allow_none_pass_through\u001b[39m=\u001b[39m\u001b[39mTrue\u001b[39;00m)(grad_outputs_)\n\u001b[0;32m    299\u001b[0m \u001b[39melse\u001b[39;00m:\n\u001b[1;32m--> 300\u001b[0m     \u001b[39mreturn\u001b[39;00m Variable\u001b[39m.\u001b[39;49m_execution_engine\u001b[39m.\u001b[39;49mrun_backward(  \u001b[39m# Calls into the C++ engine to run the backward pass\u001b[39;49;00m\n\u001b[0;32m    301\u001b[0m         t_outputs, grad_outputs_, retain_graph, create_graph, t_inputs,\n\u001b[0;32m    302\u001b[0m         allow_unused, accumulate_grad\u001b[39m=\u001b[39;49m\u001b[39mFalse\u001b[39;49;00m)\n",
      "File \u001b[1;32mc:\\Users\\Ali\\Anaconda3\\envs\\mmedit\\lib\\site-packages\\torch\\autograd\\function.py:267\u001b[0m, in \u001b[0;36mBackwardCFunction.apply\u001b[1;34m(self, *args)\u001b[0m\n\u001b[0;32m    263\u001b[0m     \u001b[39mraise\u001b[39;00m \u001b[39mRuntimeError\u001b[39;00m(\u001b[39m\"\u001b[39m\u001b[39mImplementing both \u001b[39m\u001b[39m'\u001b[39m\u001b[39mbackward\u001b[39m\u001b[39m'\u001b[39m\u001b[39m and \u001b[39m\u001b[39m'\u001b[39m\u001b[39mvjp\u001b[39m\u001b[39m'\u001b[39m\u001b[39m for a custom \u001b[39m\u001b[39m\"\u001b[39m\n\u001b[0;32m    264\u001b[0m                        \u001b[39m\"\u001b[39m\u001b[39mFunction is not allowed. You should only implement one \u001b[39m\u001b[39m\"\u001b[39m\n\u001b[0;32m    265\u001b[0m                        \u001b[39m\"\u001b[39m\u001b[39mof them.\u001b[39m\u001b[39m\"\u001b[39m)\n\u001b[0;32m    266\u001b[0m user_fn \u001b[39m=\u001b[39m vjp_fn \u001b[39mif\u001b[39;00m vjp_fn \u001b[39mis\u001b[39;00m \u001b[39mnot\u001b[39;00m Function\u001b[39m.\u001b[39mvjp \u001b[39melse\u001b[39;00m backward_fn\n\u001b[1;32m--> 267\u001b[0m \u001b[39mreturn\u001b[39;00m user_fn(\u001b[39mself\u001b[39;49m, \u001b[39m*\u001b[39;49margs)\n",
      "File \u001b[1;32mg:\\mmgeneration\\mmgen\\ops\\conv2d_gradfix.py:207\u001b[0m, in \u001b[0;36m_conv2d_gradfix.<locals>.Conv2d.backward\u001b[1;34m(ctx, grad_output)\u001b[0m\n\u001b[0;32m    204\u001b[0m     \u001b[39massert\u001b[39;00m grad_input\u001b[39m.\u001b[39mshape \u001b[39m==\u001b[39m input_shape\n\u001b[0;32m    206\u001b[0m \u001b[39mif\u001b[39;00m ctx\u001b[39m.\u001b[39mneeds_input_grad[\u001b[39m1\u001b[39m] \u001b[39mand\u001b[39;00m \u001b[39mnot\u001b[39;00m weight_gradients_disabled:\n\u001b[1;32m--> 207\u001b[0m     grad_weight \u001b[39m=\u001b[39m Conv2dGradWeight\u001b[39m.\u001b[39;49mapply(grad_output, \u001b[39minput\u001b[39;49m)\n\u001b[0;32m    208\u001b[0m     \u001b[39massert\u001b[39;00m grad_weight\u001b[39m.\u001b[39mshape \u001b[39m==\u001b[39m weight_shape\n\u001b[0;32m    210\u001b[0m \u001b[39mif\u001b[39;00m ctx\u001b[39m.\u001b[39mneeds_input_grad[\u001b[39m2\u001b[39m]:\n",
      "File \u001b[1;32mg:\\mmgeneration\\mmgen\\ops\\conv2d_gradfix.py:250\u001b[0m, in \u001b[0;36m_conv2d_gradfix.<locals>.Conv2dGradWeight.forward\u001b[1;34m(ctx, grad_output, input)\u001b[0m\n\u001b[0;32m    243\u001b[0m name \u001b[39m=\u001b[39m (\u001b[39m'\u001b[39m\u001b[39maten::cudnn_convolution_transpose_backward_weight\u001b[39m\u001b[39m'\u001b[39m \u001b[39mif\u001b[39;00m\n\u001b[0;32m    244\u001b[0m         transpose \u001b[39melse\u001b[39;00m \u001b[39m'\u001b[39m\u001b[39maten::cudnn_convolution_backward_weight\u001b[39m\u001b[39m'\u001b[39m)\n\u001b[0;32m    245\u001b[0m flags \u001b[39m=\u001b[39m [\n\u001b[0;32m    246\u001b[0m     torch\u001b[39m.\u001b[39mbackends\u001b[39m.\u001b[39mcudnn\u001b[39m.\u001b[39mbenchmark,\n\u001b[0;32m    247\u001b[0m     torch\u001b[39m.\u001b[39mbackends\u001b[39m.\u001b[39mcudnn\u001b[39m.\u001b[39mdeterministic,\n\u001b[0;32m    248\u001b[0m     torch\u001b[39m.\u001b[39mbackends\u001b[39m.\u001b[39mcudnn\u001b[39m.\u001b[39mallow_tf32\n\u001b[0;32m    249\u001b[0m ]\n\u001b[1;32m--> 250\u001b[0m \u001b[39mreturn\u001b[39;00m torch\u001b[39m.\u001b[39;49m_C\u001b[39m.\u001b[39;49m_jit_get_operation(name)(weight_shape, grad_output,\n\u001b[0;32m    251\u001b[0m                                          \u001b[39minput\u001b[39m, padding, stride,\n\u001b[0;32m    252\u001b[0m                                          dilation, groups, \u001b[39m*\u001b[39mflags)\n",
      "\u001b[1;31mRuntimeError\u001b[0m: No such operator aten::cudnn_convolution_backward_weight"
     ]
    }
   ],
   "source": [
    "train_model(model, datasets, cfg, distributed=False, validate=True)"
   ]
  },
  {
   "cell_type": "code",
   "execution_count": null,
   "id": "1740f72e",
   "metadata": {},
   "outputs": [],
   "source": []
  },
  {
   "cell_type": "code",
   "execution_count": null,
   "id": "5aaf7162",
   "metadata": {},
   "outputs": [],
   "source": [
    "# !python tools/train.py \\\n",
    "#     \"configs/styleganv2/stylegan2_c2_lsun-church_256_b4x8_800k.py\" \\\n",
    "#     --work-dir \"./test_run/\""
   ]
  },
  {
   "cell_type": "code",
   "execution_count": null,
   "id": "4624324a",
   "metadata": {},
   "outputs": [],
   "source": []
  },
  {
   "cell_type": "code",
   "execution_count": null,
   "id": "ae780d0f",
   "metadata": {},
   "outputs": [],
   "source": []
  }
 ],
 "metadata": {
  "kernelspec": {
   "display_name": "Python 3 (ipykernel)",
   "language": "python",
   "name": "python3"
  },
  "language_info": {
   "codemirror_mode": {
    "name": "ipython",
    "version": 3
   },
   "file_extension": ".py",
   "mimetype": "text/x-python",
   "name": "python",
   "nbconvert_exporter": "python",
   "pygments_lexer": "ipython3",
   "version": "3.9.17"
  }
 },
 "nbformat": 4,
 "nbformat_minor": 5
}
